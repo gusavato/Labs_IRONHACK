{
 "cells": [
  {
   "attachments": {},
   "cell_type": "markdown",
   "metadata": {},
   "source": [
    "# Challenge - ANOVA\n",
    "\n",
    "In statistics, **Analysis of Variance (ANOVA)** is also used to analyze the differences among group means. The difference between t-test and ANOVA is the former is ued to compare two groups whereas the latter is used to compare three or more groups. [Read more about the difference between t-test and ANOVA](https://keydifferences.com/difference-between-t-test-and-anova.html).\n",
    "\n",
    "From the ANOVA test, you receive two numbers. The first number is called the **F-value** which indicates whether your null-hypothesis can be rejected. The critical F-value that rejects the null-hypothesis varies according to the number of total subjects and the number of subject groups in your experiment. In [this table](https://www.itl.nist.gov/div898/handbook/eda/section3/eda3673.htm) you can find the critical values of the F distribution. **If you are confused by the massive F-distribution table, don't worry. Skip F-value for now and study it at a later time. In this challenge you only need to look at the p-value.**\n",
    "\n",
    "The p-value is another number yielded by ANOVA which already takes the number of total subjects and the number of experiment groups into consideration. **Typically if your p-value is less than 0.05, you can declare the null-hypothesis is rejected.**\n",
    "\n",
    "In this challenge, we want to understand whether there are significant differences among various types of pokemons' `Total` value, i.e. Grass vs Poison vs Fire vs Dragon... There are many types of pokemons which makes it a perfect use case for ANOVA."
   ]
  },
  {
   "cell_type": "code",
   "execution_count": 1,
   "metadata": {},
   "outputs": [],
   "source": [
    "# Import libraries\n",
    "\n",
    "import pandas as pd\n",
    "import numpy as np"
   ]
  },
  {
   "cell_type": "code",
   "execution_count": 4,
   "metadata": {},
   "outputs": [
    {
     "data": {
      "text/html": [
       "<div>\n",
       "<style scoped>\n",
       "    .dataframe tbody tr th:only-of-type {\n",
       "        vertical-align: middle;\n",
       "    }\n",
       "\n",
       "    .dataframe tbody tr th {\n",
       "        vertical-align: top;\n",
       "    }\n",
       "\n",
       "    .dataframe thead th {\n",
       "        text-align: right;\n",
       "    }\n",
       "</style>\n",
       "<table border=\"1\" class=\"dataframe\">\n",
       "  <thead>\n",
       "    <tr style=\"text-align: right;\">\n",
       "      <th></th>\n",
       "      <th>#</th>\n",
       "      <th>Name</th>\n",
       "      <th>Type 1</th>\n",
       "      <th>Type 2</th>\n",
       "      <th>Total</th>\n",
       "      <th>HP</th>\n",
       "      <th>Attack</th>\n",
       "      <th>Defense</th>\n",
       "      <th>Sp. Atk</th>\n",
       "      <th>Sp. Def</th>\n",
       "      <th>Speed</th>\n",
       "      <th>Generation</th>\n",
       "      <th>Legendary</th>\n",
       "    </tr>\n",
       "  </thead>\n",
       "  <tbody>\n",
       "    <tr>\n",
       "      <th>0</th>\n",
       "      <td>1</td>\n",
       "      <td>Bulbasaur</td>\n",
       "      <td>Grass</td>\n",
       "      <td>Poison</td>\n",
       "      <td>318</td>\n",
       "      <td>45</td>\n",
       "      <td>49</td>\n",
       "      <td>49</td>\n",
       "      <td>65</td>\n",
       "      <td>65</td>\n",
       "      <td>45</td>\n",
       "      <td>1</td>\n",
       "      <td>False</td>\n",
       "    </tr>\n",
       "    <tr>\n",
       "      <th>1</th>\n",
       "      <td>2</td>\n",
       "      <td>Ivysaur</td>\n",
       "      <td>Grass</td>\n",
       "      <td>Poison</td>\n",
       "      <td>405</td>\n",
       "      <td>60</td>\n",
       "      <td>62</td>\n",
       "      <td>63</td>\n",
       "      <td>80</td>\n",
       "      <td>80</td>\n",
       "      <td>60</td>\n",
       "      <td>1</td>\n",
       "      <td>False</td>\n",
       "    </tr>\n",
       "    <tr>\n",
       "      <th>2</th>\n",
       "      <td>3</td>\n",
       "      <td>Venusaur</td>\n",
       "      <td>Grass</td>\n",
       "      <td>Poison</td>\n",
       "      <td>525</td>\n",
       "      <td>80</td>\n",
       "      <td>82</td>\n",
       "      <td>83</td>\n",
       "      <td>100</td>\n",
       "      <td>100</td>\n",
       "      <td>80</td>\n",
       "      <td>1</td>\n",
       "      <td>False</td>\n",
       "    </tr>\n",
       "    <tr>\n",
       "      <th>3</th>\n",
       "      <td>3</td>\n",
       "      <td>VenusaurMega Venusaur</td>\n",
       "      <td>Grass</td>\n",
       "      <td>Poison</td>\n",
       "      <td>625</td>\n",
       "      <td>80</td>\n",
       "      <td>100</td>\n",
       "      <td>123</td>\n",
       "      <td>122</td>\n",
       "      <td>120</td>\n",
       "      <td>80</td>\n",
       "      <td>1</td>\n",
       "      <td>False</td>\n",
       "    </tr>\n",
       "    <tr>\n",
       "      <th>4</th>\n",
       "      <td>4</td>\n",
       "      <td>Charmander</td>\n",
       "      <td>Fire</td>\n",
       "      <td>NaN</td>\n",
       "      <td>309</td>\n",
       "      <td>39</td>\n",
       "      <td>52</td>\n",
       "      <td>43</td>\n",
       "      <td>60</td>\n",
       "      <td>50</td>\n",
       "      <td>65</td>\n",
       "      <td>1</td>\n",
       "      <td>False</td>\n",
       "    </tr>\n",
       "  </tbody>\n",
       "</table>\n",
       "</div>"
      ],
      "text/plain": [
       "   #                   Name Type 1  Type 2  Total  HP  Attack  Defense  \\\n",
       "0  1              Bulbasaur  Grass  Poison    318  45      49       49   \n",
       "1  2                Ivysaur  Grass  Poison    405  60      62       63   \n",
       "2  3               Venusaur  Grass  Poison    525  80      82       83   \n",
       "3  3  VenusaurMega Venusaur  Grass  Poison    625  80     100      123   \n",
       "4  4             Charmander   Fire     NaN    309  39      52       43   \n",
       "\n",
       "   Sp. Atk  Sp. Def  Speed  Generation  Legendary  \n",
       "0       65       65     45           1      False  \n",
       "1       80       80     60           1      False  \n",
       "2      100      100     80           1      False  \n",
       "3      122      120     80           1      False  \n",
       "4       60       50     65           1      False  "
      ]
     },
     "execution_count": 4,
     "metadata": {},
     "output_type": "execute_result"
    }
   ],
   "source": [
    "# Import dataset\n",
    "\n",
    "pokemon = pd.read_csv('../pokemon.csv')\n",
    "\n",
    "pokemon.head()"
   ]
  },
  {
   "attachments": {},
   "cell_type": "markdown",
   "metadata": {},
   "source": [
    "**To achieve our goal, we use three steps:**\n",
    "\n",
    "1. **Extract the unique values of the pokemon types.**\n",
    "\n",
    "1. **Select dataframes for each unique pokemon type.**\n",
    "\n",
    "1. **Conduct ANOVA analysis across the pokemon types.**"
   ]
  },
  {
   "attachments": {},
   "cell_type": "markdown",
   "metadata": {},
   "source": [
    "#### First let's obtain the unique values of the pokemon types. These values should be extracted from Type 1 and Type 2 aggregated. Assign the unique values to a variable called `unique_types`.\n",
    "\n",
    "*Hint: the correct number of unique types is 19 including `NaN`. You can disregard `NaN` in next step.*"
   ]
  },
  {
   "cell_type": "code",
   "execution_count": 6,
   "metadata": {},
   "outputs": [
    {
     "data": {
      "text/plain": [
       "18"
      ]
     },
     "execution_count": 6,
     "metadata": {},
     "output_type": "execute_result"
    }
   ],
   "source": [
    "# Your code here\n",
    "\n",
    "unique_types = pokemon['Type 1'].unique()\n",
    "\n",
    "len(unique_types) # you should see 19"
   ]
  },
  {
   "attachments": {},
   "cell_type": "markdown",
   "metadata": {},
   "source": [
    "#### Second we will create a list named `pokemon_totals` to contain the `Total` values of each unique type of pokemons.\n",
    "\n",
    "Why we use a list instead of a dictionary to store the pokemon `Total`? It's because ANOVA only tells us whether there is a significant difference of the group means but does not tell which group(s) are significantly different. Therefore, we don't need know which `Total` belongs to which pokemon type.\n",
    "\n",
    "*Hints:*\n",
    "\n",
    "* Loop through `unique_types` and append the selected type's `Total` to `pokemon_groups`.\n",
    "* Skip the `NaN` value in `unique_types`. `NaN` is a `float` variable which you can find out by using `type()`. The valid pokemon type values are all of the `str` type.\n",
    "* At the end, the length of your `pokemon_totals` should be 18."
   ]
  },
  {
   "cell_type": "code",
   "execution_count": 7,
   "metadata": {},
   "outputs": [
    {
     "data": {
      "text/plain": [
       "18"
      ]
     },
     "execution_count": 7,
     "metadata": {},
     "output_type": "execute_result"
    }
   ],
   "source": [
    "pokemon_totals = unique_types.tolist()\n",
    "\n",
    "# Your code here\n",
    "\n",
    "len(pokemon_totals) # you should see 18"
   ]
  },
  {
   "attachments": {},
   "cell_type": "markdown",
   "metadata": {},
   "source": [
    "#### Now we run ANOVA test on `pokemon_totals`.\n",
    "\n",
    "*Hints:*\n",
    "\n",
    "* To conduct ANOVA, you can use `scipy.stats.f_oneway()`. Here's the [reference](https://docs.scipy.org/doc/scipy/reference/generated/scipy.stats.f_oneway.html).\n",
    "\n",
    "* What if `f_oneway` throws an error because it does not accept `pokemon_totals` as a list? The trick is to add a `*` in front of `pokemon_totals`, e.g. `stats.f_oneway(*pokemon_groups)`. This trick breaks the list and supplies each list item as a parameter for `f_oneway`."
   ]
  },
  {
   "cell_type": "code",
   "execution_count": 19,
   "metadata": {},
   "outputs": [
    {
     "data": {
      "text/plain": [
       "F_onewayResult(statistic=4.63876748166055, pvalue=2.077215448842098e-09)"
      ]
     },
     "execution_count": 19,
     "metadata": {},
     "output_type": "execute_result"
    }
   ],
   "source": [
    "# Your code here\n",
    "\n",
    "dictio = {tipo:pokemon[pokemon['Type 1']==tipo]['Total'] for tipo in pokemon_totals}\n",
    "dictio\n",
    "#dictio = dict()\n",
    "#for tipo in pokemon_totals:\n",
    "#    dictio[tipo] = pokemon[pokemon['Type 1'] == tipo]['Total']\n",
    "\n",
    "from scipy.stats import f_oneway, ttest_ind\n",
    "\n",
    "f_oneway(*dictio.values())"
   ]
  },
  {
   "attachments": {},
   "cell_type": "markdown",
   "metadata": {},
   "source": [
    "#### Interpret the ANOVA test result. Is the difference significant?"
   ]
  },
  {
   "cell_type": "code",
   "execution_count": 14,
   "metadata": {},
   "outputs": [],
   "source": [
    "# Your comment here\n",
    "#al menos uno es distinto"
   ]
  },
  {
   "cell_type": "code",
   "execution_count": 24,
   "metadata": {},
   "outputs": [
    {
     "name": "stdout",
     "output_type": "stream",
     "text": [
      "Grass es significativamente semejante a Fire\n",
      "Grass es significativamente semejante a Water\n",
      "Grass es significativamente diferente a Bug\n",
      "Grass es significativamente semejante a Normal\n",
      "Grass es significativamente semejante a Poison\n",
      "Grass es significativamente semejante a Electric\n",
      "Grass es significativamente semejante a Ground\n",
      "Grass es significativamente semejante a Fairy\n",
      "Grass es significativamente semejante a Fighting\n",
      "Grass es significativamente diferente a Psychic\n",
      "Grass es significativamente semejante a Rock\n",
      "Grass es significativamente semejante a Ghost\n",
      "Grass es significativamente semejante a Ice\n",
      "Grass es significativamente diferente a Dragon\n",
      "Grass es significativamente semejante a Dark\n",
      "Grass es significativamente diferente a Steel\n",
      "Grass es significativamente semejante a Flying\n",
      "Fire es significativamente semejante a Water\n",
      "Fire es significativamente diferente a Bug\n",
      "Fire es significativamente diferente a Normal\n",
      "Fire es significativamente diferente a Poison\n",
      "Fire es significativamente semejante a Electric\n",
      "Fire es significativamente semejante a Ground\n",
      "Fire es significativamente semejante a Fairy\n",
      "Fire es significativamente semejante a Fighting\n",
      "Fire es significativamente semejante a Psychic\n",
      "Fire es significativamente semejante a Rock\n",
      "Fire es significativamente semejante a Ghost\n",
      "Fire es significativamente semejante a Ice\n",
      "Fire es significativamente diferente a Dragon\n",
      "Fire es significativamente semejante a Dark\n",
      "Fire es significativamente semejante a Steel\n",
      "Fire es significativamente semejante a Flying\n",
      "Water es significativamente diferente a Bug\n",
      "Water es significativamente semejante a Normal\n",
      "Water es significativamente semejante a Poison\n",
      "Water es significativamente semejante a Electric\n",
      "Water es significativamente semejante a Ground\n",
      "Water es significativamente semejante a Fairy\n",
      "Water es significativamente semejante a Fighting\n",
      "Water es significativamente diferente a Psychic\n",
      "Water es significativamente semejante a Rock\n",
      "Water es significativamente semejante a Ghost\n",
      "Water es significativamente semejante a Ice\n",
      "Water es significativamente diferente a Dragon\n",
      "Water es significativamente semejante a Dark\n",
      "Water es significativamente diferente a Steel\n",
      "Water es significativamente semejante a Flying\n",
      "Bug es significativamente semejante a Normal\n",
      "Bug es significativamente semejante a Poison\n",
      "Bug es significativamente diferente a Electric\n",
      "Bug es significativamente diferente a Ground\n",
      "Bug es significativamente semejante a Fairy\n",
      "Bug es significativamente semejante a Fighting\n",
      "Bug es significativamente diferente a Psychic\n",
      "Bug es significativamente diferente a Rock\n",
      "Bug es significativamente diferente a Ghost\n",
      "Bug es significativamente diferente a Ice\n",
      "Bug es significativamente diferente a Dragon\n",
      "Bug es significativamente diferente a Dark\n",
      "Bug es significativamente diferente a Steel\n",
      "Bug es significativamente semejante a Flying\n",
      "Normal es significativamente semejante a Poison\n",
      "Normal es significativamente diferente a Electric\n",
      "Normal es significativamente semejante a Ground\n",
      "Normal es significativamente semejante a Fairy\n",
      "Normal es significativamente semejante a Fighting\n",
      "Normal es significativamente diferente a Psychic\n",
      "Normal es significativamente diferente a Rock\n",
      "Normal es significativamente semejante a Ghost\n",
      "Normal es significativamente semejante a Ice\n",
      "Normal es significativamente diferente a Dragon\n",
      "Normal es significativamente semejante a Dark\n",
      "Normal es significativamente diferente a Steel\n",
      "Normal es significativamente semejante a Flying\n",
      "Poison es significativamente semejante a Electric\n",
      "Poison es significativamente semejante a Ground\n",
      "Poison es significativamente semejante a Fairy\n",
      "Poison es significativamente semejante a Fighting\n",
      "Poison es significativamente diferente a Psychic\n",
      "Poison es significativamente diferente a Rock\n",
      "Poison es significativamente semejante a Ghost\n",
      "Poison es significativamente semejante a Ice\n",
      "Poison es significativamente diferente a Dragon\n",
      "Poison es significativamente semejante a Dark\n",
      "Poison es significativamente diferente a Steel\n",
      "Poison es significativamente semejante a Flying\n",
      "Electric es significativamente semejante a Ground\n",
      "Electric es significativamente semejante a Fairy\n",
      "Electric es significativamente semejante a Fighting\n",
      "Electric es significativamente semejante a Psychic\n",
      "Electric es significativamente semejante a Rock\n",
      "Electric es significativamente semejante a Ghost\n",
      "Electric es significativamente semejante a Ice\n",
      "Electric es significativamente diferente a Dragon\n",
      "Electric es significativamente semejante a Dark\n",
      "Electric es significativamente semejante a Steel\n",
      "Electric es significativamente semejante a Flying\n",
      "Ground es significativamente semejante a Fairy\n",
      "Ground es significativamente semejante a Fighting\n",
      "Ground es significativamente semejante a Psychic\n",
      "Ground es significativamente semejante a Rock\n",
      "Ground es significativamente semejante a Ghost\n",
      "Ground es significativamente semejante a Ice\n",
      "Ground es significativamente diferente a Dragon\n",
      "Ground es significativamente semejante a Dark\n",
      "Ground es significativamente semejante a Steel\n",
      "Ground es significativamente semejante a Flying\n",
      "Fairy es significativamente semejante a Fighting\n",
      "Fairy es significativamente semejante a Psychic\n",
      "Fairy es significativamente semejante a Rock\n",
      "Fairy es significativamente semejante a Ghost\n",
      "Fairy es significativamente semejante a Ice\n",
      "Fairy es significativamente diferente a Dragon\n",
      "Fairy es significativamente semejante a Dark\n",
      "Fairy es significativamente diferente a Steel\n",
      "Fairy es significativamente semejante a Flying\n",
      "Fighting es significativamente semejante a Psychic\n",
      "Fighting es significativamente semejante a Rock\n",
      "Fighting es significativamente semejante a Ghost\n",
      "Fighting es significativamente semejante a Ice\n",
      "Fighting es significativamente diferente a Dragon\n",
      "Fighting es significativamente semejante a Dark\n",
      "Fighting es significativamente diferente a Steel\n",
      "Fighting es significativamente semejante a Flying\n",
      "Psychic es significativamente semejante a Rock\n",
      "Psychic es significativamente semejante a Ghost\n",
      "Psychic es significativamente semejante a Ice\n",
      "Psychic es significativamente diferente a Dragon\n",
      "Psychic es significativamente semejante a Dark\n",
      "Psychic es significativamente semejante a Steel\n",
      "Psychic es significativamente semejante a Flying\n",
      "Rock es significativamente semejante a Ghost\n",
      "Rock es significativamente semejante a Ice\n",
      "Rock es significativamente diferente a Dragon\n",
      "Rock es significativamente semejante a Dark\n",
      "Rock es significativamente semejante a Steel\n",
      "Rock es significativamente semejante a Flying\n",
      "Ghost es significativamente semejante a Ice\n",
      "Ghost es significativamente diferente a Dragon\n",
      "Ghost es significativamente semejante a Dark\n",
      "Ghost es significativamente semejante a Steel\n",
      "Ghost es significativamente semejante a Flying\n",
      "Ice es significativamente diferente a Dragon\n",
      "Ice es significativamente semejante a Dark\n",
      "Ice es significativamente semejante a Steel\n",
      "Ice es significativamente semejante a Flying\n",
      "Dragon es significativamente diferente a Dark\n",
      "Dragon es significativamente semejante a Steel\n",
      "Dragon es significativamente semejante a Flying\n",
      "Dark es significativamente semejante a Steel\n",
      "Dark es significativamente semejante a Flying\n",
      "Steel es significativamente semejante a Flying\n"
     ]
    }
   ],
   "source": [
    "for indice, tipo1 in enumerate(pokemon_totals[:-1]):\n",
    "\n",
    "    for tipo2 in pokemon_totals[indice+1:]:\n",
    "        statistic, pvalue = ttest_ind(dictio[tipo1],dictio[tipo2])\n",
    "        if pvalue > 0.05:\n",
    "            print(f'{tipo1} es significativamente semejante a {tipo2}')\n",
    "        elif pvalue < 0.05:\n",
    "            print(f'{tipo1} es significativamente diferente a {tipo2}')\n"
   ]
  },
  {
   "cell_type": "code",
   "execution_count": null,
   "metadata": {},
   "outputs": [],
   "source": []
  }
 ],
 "metadata": {
  "kernelspec": {
   "display_name": "Python 3",
   "language": "python",
   "name": "python3"
  },
  "language_info": {
   "codemirror_mode": {
    "name": "ipython",
    "version": 3
   },
   "file_extension": ".py",
   "mimetype": "text/x-python",
   "name": "python",
   "nbconvert_exporter": "python",
   "pygments_lexer": "ipython3",
   "version": "3.10.9"
  },
  "varInspector": {
   "cols": {
    "lenName": 16,
    "lenType": 16,
    "lenVar": 40
   },
   "kernels_config": {
    "python": {
     "delete_cmd_postfix": "",
     "delete_cmd_prefix": "del ",
     "library": "var_list.py",
     "varRefreshCmd": "print(var_dic_list())"
    },
    "r": {
     "delete_cmd_postfix": ") ",
     "delete_cmd_prefix": "rm(",
     "library": "var_list.r",
     "varRefreshCmd": "cat(var_dic_list()) "
    }
   },
   "types_to_exclude": [
    "module",
    "function",
    "builtin_function_or_method",
    "instance",
    "_Feature"
   ],
   "window_display": false
  }
 },
 "nbformat": 4,
 "nbformat_minor": 2
}
