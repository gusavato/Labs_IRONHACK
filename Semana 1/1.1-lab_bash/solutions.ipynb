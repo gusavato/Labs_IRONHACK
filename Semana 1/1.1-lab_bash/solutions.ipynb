{
 "cells": [
  {
   "cell_type": "markdown",
   "id": "75db9a34",
   "metadata": {},
   "source": [
    "### Imprime en consola Hello World"
   ]
  },
  {
   "cell_type": "code",
   "execution_count": 1,
   "id": "faf1212a",
   "metadata": {},
   "outputs": [
    {
     "name": "stdout",
     "output_type": "stream",
     "text": [
      "Hello World\n"
     ]
    }
   ],
   "source": [
    "echo Hello World"
   ]
  },
  {
   "cell_type": "markdown",
   "id": "e606f085",
   "metadata": {},
   "source": [
    "### Crea un directorio nuevo llamado new_dir"
   ]
  },
  {
   "cell_type": "code",
   "execution_count": 2,
   "id": "9cda8669",
   "metadata": {},
   "outputs": [
    {
     "name": "stderr",
     "output_type": "stream",
     "text": [
      "Ya existe el subdirectorio o el archivo new_dir.\n"
     ]
    }
   ],
   "source": [
    "mkdir new_dir"
   ]
  },
  {
   "cell_type": "markdown",
   "id": "2714e602",
   "metadata": {},
   "source": [
    "### Copia el archivo sed.txt dentro de la carpeta lorem a la carpeta lorem-copy. TIP: Puede ser necesario crear la carpeta lorem-copy primero."
   ]
  },
  {
   "cell_type": "code",
   "execution_count": 6,
   "id": "d6b71784",
   "metadata": {},
   "outputs": [],
   "source": [
    "mkdir lorem-copy"
   ]
  },
  {
   "cell_type": "code",
   "execution_count": 7,
   "id": "51108aba",
   "metadata": {},
   "outputs": [
    {
     "name": "stdout",
     "output_type": "stream",
     "text": [
      " El volumen de la unidad C es WINDOWS\n",
      " El número de serie del volumen es: 0C4C-B6FD\n",
      "\n",
      " Directorio de C:\\Users\\augus\\Documents\\IRONHACK Data Analytics\\Git\\1.1-lab_bash\n",
      "\n",
      "10/04/2023  15:50    <DIR>          .\n",
      "10/04/2023  15:28    <DIR>          ..\n",
      "10/04/2023  15:28             6.148 .DS_Store\n",
      "10/04/2023  15:43    <DIR>          .ipynb_checkpoints\n",
      "10/04/2023  15:29    <DIR>          lorem\n",
      "10/04/2023  15:50    <DIR>          lorem-copy\n",
      "10/04/2023  15:46    <DIR>          new_dir\n",
      "10/04/2023  15:28             2.358 README.md\n",
      "10/04/2023  15:49             3.326 solutions.ipynb\n",
      "               3 archivos         11.832 bytes\n",
      "               6 dirs  106.978.791.424 bytes libres\n"
     ]
    }
   ],
   "source": [
    "ls"
   ]
  },
  {
   "cell_type": "code",
   "execution_count": 14,
   "id": "868f57af",
   "metadata": {},
   "outputs": [
    {
     "name": "stdout",
     "output_type": "stream",
     "text": [
      "C:\\Users\\augus\\Documents\\IRONHACK Data Analytics\\Git\\1.1-lab_bash\\lorem\n"
     ]
    }
   ],
   "source": [
    "cd lorem"
   ]
  },
  {
   "cell_type": "code",
   "execution_count": 44,
   "id": "6422275e",
   "metadata": {},
   "outputs": [
    {
     "name": "stdout",
     "output_type": "stream",
     "text": [
      " El volumen de la unidad C es WINDOWS\n",
      " El número de serie del volumen es: 0C4C-B6FD\n",
      "\n",
      " Directorio de C:\\Users\\augus\\Documents\\IRONHACK Data Analytics\\Git\\1.1-lab_bash\\lorem\n",
      "\n",
      "10/04/2023  15:29    <DIR>          .\n",
      "10/04/2023  16:13    <DIR>          ..\n",
      "10/04/2023  15:29               852 at.txt\n",
      "10/04/2023  15:29               448 lorem.txt\n",
      "10/04/2023  15:29               873 sed.txt\n",
      "               3 archivos          2.173 bytes\n",
      "               2 dirs  106.239.782.912 bytes libres\n"
     ]
    }
   ],
   "source": [
    "ls"
   ]
  },
  {
   "cell_type": "code",
   "execution_count": 45,
   "id": "83509923",
   "metadata": {},
   "outputs": [
    {
     "name": "stderr",
     "output_type": "stream",
     "text": [
      "\"cp\" no se reconoce como un comando interno o externo,\n",
      "programa o archivo por lotes ejecutable.\n"
     ]
    }
   ],
   "source": [
    "# Linea de código generadad en git bash, no he conseguido ejecutarla en jupyter\n",
    "!cp sed.txt ../lorem-copy/"
   ]
  },
  {
   "cell_type": "code",
   "execution_count": 47,
   "id": "fb7d02fb",
   "metadata": {},
   "outputs": [
    {
     "name": "stdout",
     "output_type": "stream",
     "text": [
      "C:\\Users\\augus\\Documents\\IRONHACK Data Analytics\\Git\\1.1-lab_bash\\lorem-copy\n"
     ]
    }
   ],
   "source": [
    "cd ../lorem-copy/"
   ]
  },
  {
   "cell_type": "code",
   "execution_count": 49,
   "id": "33112901",
   "metadata": {
    "scrolled": true
   },
   "outputs": [
    {
     "name": "stdout",
     "output_type": "stream",
     "text": [
      " El volumen de la unidad C es WINDOWS\n",
      " El número de serie del volumen es: 0C4C-B6FD\n",
      "\n",
      " Directorio de C:\\Users\\augus\\Documents\\IRONHACK Data Analytics\\Git\\1.1-lab_bash\\lorem-copy\n",
      "\n",
      "10/04/2023  16:17    <DIR>          .\n",
      "10/04/2023  16:17    <DIR>          ..\n",
      "10/04/2023  16:17               873 sed.txt\n",
      "               1 archivos            873 bytes\n",
      "               2 dirs  106.124.894.208 bytes libres\n"
     ]
    }
   ],
   "source": [
    "ls"
   ]
  },
  {
   "cell_type": "markdown",
   "id": "0fc189cf",
   "metadata": {},
   "source": [
    "### Muestra el contenido del archivo sed.txt dentro de la carpeta lorem."
   ]
  },
  {
   "cell_type": "code",
   "execution_count": 55,
   "id": "50a478ab",
   "metadata": {},
   "outputs": [
    {
     "name": "stdout",
     "output_type": "stream",
     "text": [
      "C:\\Users\\augus\\Documents\\IRONHACK Data Analytics\\Git\\1.1-lab_bash\\lorem\n"
     ]
    }
   ],
   "source": [
    "cd ../lorem/"
   ]
  },
  {
   "cell_type": "code",
   "execution_count": 61,
   "id": "c4d7f996",
   "metadata": {},
   "outputs": [
    {
     "name": "stderr",
     "output_type": "stream",
     "text": [
      "\"cat\" no se reconoce como un comando interno o externo,\n",
      "programa o archivo por lotes ejecutable.\n"
     ]
    }
   ],
   "source": [
    "# Linea de código generadad en git bash, no he conseguido ejecutarla en jupyter\n",
    "!cat 'sed.txt'"
   ]
  },
  {
   "cell_type": "markdown",
   "id": "2c21916c",
   "metadata": {},
   "source": [
    "### Muestra el contenido de los archivos at.txt y lorem.txt dentro de la carpeta lorem."
   ]
  },
  {
   "cell_type": "code",
   "execution_count": 57,
   "id": "3303ef41",
   "metadata": {},
   "outputs": [
    {
     "data": {
      "text/plain": [
       "'C:\\\\Users\\\\augus\\\\Documents\\\\IRONHACK Data Analytics\\\\Git\\\\1.1-lab_bash\\\\lorem'"
      ]
     },
     "execution_count": 57,
     "metadata": {},
     "output_type": "execute_result"
    }
   ],
   "source": [
    "pwd"
   ]
  },
  {
   "cell_type": "code",
   "execution_count": 62,
   "id": "356f9b1d",
   "metadata": {},
   "outputs": [
    {
     "name": "stderr",
     "output_type": "stream",
     "text": [
      "\"cat\" no se reconoce como un comando interno o externo,\n",
      "programa o archivo por lotes ejecutable.\n"
     ]
    }
   ],
   "source": [
    "# Linea de código generadad en git bash, no he conseguido ejecutarla en jupyter1\n",
    "!cat at.txt"
   ]
  },
  {
   "cell_type": "code",
   "execution_count": 63,
   "id": "587915f7",
   "metadata": {},
   "outputs": [
    {
     "name": "stderr",
     "output_type": "stream",
     "text": [
      "\"cat\" no se reconoce como un comando interno o externo,\n",
      "programa o archivo por lotes ejecutable.\n"
     ]
    }
   ],
   "source": [
    "# Linea de código generadad en git bash, no he conseguido ejecutarla en jupyter\n",
    "!cat lorem.txt"
   ]
  },
  {
   "cell_type": "markdown",
   "id": "15afaa1f",
   "metadata": {},
   "source": [
    "### Visualiza las primeras 3 líneas del archivo sed.txt dentro de la carpeta lorem-copy"
   ]
  },
  {
   "cell_type": "code",
   "execution_count": 64,
   "id": "e3f6b0c5",
   "metadata": {},
   "outputs": [
    {
     "name": "stdout",
     "output_type": "stream",
     "text": [
      "C:\\Users\\augus\\Documents\\IRONHACK Data Analytics\\Git\\1.1-lab_bash\\lorem-copy\n"
     ]
    }
   ],
   "source": [
    "cd ../lorem-copy/"
   ]
  },
  {
   "cell_type": "code",
   "execution_count": 67,
   "id": "4347e7ce",
   "metadata": {},
   "outputs": [
    {
     "name": "stderr",
     "output_type": "stream",
     "text": [
      "\"head\" no se reconoce como un comando interno o externo,\n",
      "programa o archivo por lotes ejecutable.\n"
     ]
    }
   ],
   "source": [
    "# # Linea de código generadad en git bash, no he conseguido ejecutarla en jupyter\n",
    "!head -n 3 sed.txt"
   ]
  },
  {
   "cell_type": "markdown",
   "id": "d6ace953",
   "metadata": {},
   "source": [
    "### Añade Homo homini lupus. al final de archivo sed.txt dentro de la carpeta lorem-copy"
   ]
  },
  {
   "cell_type": "code",
   "execution_count": 70,
   "id": "d9e50d02",
   "metadata": {},
   "outputs": [],
   "source": [
    "!echo 'Homo homini lupus' >> sed.txt"
   ]
  },
  {
   "cell_type": "markdown",
   "id": "cc35a961",
   "metadata": {},
   "source": [
    "### Visualiza las últimas 3 líneas del archivo sed.txt dentro de la carpeta lorem-copy. Deberías ver ahora Homo homini lupus.."
   ]
  },
  {
   "cell_type": "code",
   "execution_count": 67,
   "id": "ea0c5b97",
   "metadata": {
    "scrolled": true
   },
   "outputs": [
    {
     "name": "stderr",
     "output_type": "stream",
     "text": [
      "\"head\" no se reconoce como un comando interno o externo,\n",
      "programa o archivo por lotes ejecutable.\n"
     ]
    }
   ],
   "source": [
    "# # Linea de código generadad en git bash, no he conseguido ejecutarla en jupyter\n",
    "!tail -n 3 sed.txt"
   ]
  },
  {
   "cell_type": "markdown",
   "id": "1e35d62f",
   "metadata": {},
   "source": [
    "### Encuentra al usuario activo en el sistema"
   ]
  },
  {
   "cell_type": "code",
   "execution_count": 72,
   "id": "909f9991",
   "metadata": {},
   "outputs": [
    {
     "name": "stdout",
     "output_type": "stream",
     "text": [
      "g-57\\augus\n"
     ]
    }
   ],
   "source": [
    "!whoami"
   ]
  },
  {
   "cell_type": "markdown",
   "id": "c8169a1e",
   "metadata": {},
   "source": [
    "### Encuentra dónde estás en tu sistema de ficheros."
   ]
  },
  {
   "cell_type": "code",
   "execution_count": 73,
   "id": "f185f1c0",
   "metadata": {},
   "outputs": [
    {
     "data": {
      "text/plain": [
       "'C:\\\\Users\\\\augus\\\\Documents\\\\IRONHACK Data Analytics\\\\Git\\\\1.1-lab_bash\\\\lorem-copy'"
      ]
     },
     "execution_count": 73,
     "metadata": {},
     "output_type": "execute_result"
    }
   ],
   "source": [
    "pwd"
   ]
  },
  {
   "cell_type": "markdown",
   "id": "468f0328",
   "metadata": {},
   "source": [
    "### Lista los archivos que terminan por .txt en la carpeta lorem"
   ]
  },
  {
   "cell_type": "code",
   "execution_count": 78,
   "id": "911af597",
   "metadata": {},
   "outputs": [
    {
     "name": "stdout",
     "output_type": "stream",
     "text": [
      "C:\\Users\\augus\\Documents\\IRONHACK Data Analytics\\Git\\1.1-lab_bash\\lorem\n"
     ]
    }
   ],
   "source": [
    "cd ../lorem/"
   ]
  },
  {
   "cell_type": "code",
   "execution_count": 79,
   "id": "0d4bfe61",
   "metadata": {},
   "outputs": [
    {
     "name": "stdout",
     "output_type": "stream",
     "text": [
      " El volumen de la unidad C es WINDOWS\n",
      " El número de serie del volumen es: 0C4C-B6FD\n",
      "\n",
      " Directorio de C:\\Users\\augus\\Documents\\IRONHACK Data Analytics\\Git\\1.1-lab_bash\\lorem\n",
      "\n",
      "10/04/2023  15:29               852 at.txt\n",
      "10/04/2023  15:29               448 lorem.txt\n",
      "10/04/2023  15:29               873 sed.txt\n",
      "               3 archivos          2.173 bytes\n",
      "               0 dirs  106.288.545.792 bytes libres\n"
     ]
    }
   ],
   "source": [
    "ls *.txt"
   ]
  },
  {
   "cell_type": "markdown",
   "id": "0ed821e6",
   "metadata": {},
   "source": [
    "### Cuenta el número de líneas que tiene el archivo sed.txt dentro de la carpeta lorem"
   ]
  },
  {
   "cell_type": "code",
   "execution_count": 81,
   "id": "eab63430",
   "metadata": {},
   "outputs": [
    {
     "name": "stderr",
     "output_type": "stream",
     "text": [
      "\"wc\" no se reconoce como un comando interno o externo,\n",
      "programa o archivo por lotes ejecutable.\n"
     ]
    }
   ],
   "source": [
    "# # Linea de código generadad en git bash, no he conseguido ejecutarla en jupyter\n",
    "!wc -l sed.txt\n",
    "\n",
    "# output 9 "
   ]
  },
  {
   "cell_type": "markdown",
   "id": "51b7c0b4",
   "metadata": {},
   "source": [
    "### Cuenta el número de archivos que empiezan por lorem que están en este directorio y en directorios internos"
   ]
  },
  {
   "cell_type": "code",
   "execution_count": 82,
   "id": "a2b59124",
   "metadata": {},
   "outputs": [
    {
     "name": "stdout",
     "output_type": "stream",
     "text": [
      " El volumen de la unidad C es WINDOWS\n",
      " El número de serie del volumen es: 0C4C-B6FD\n",
      "\n",
      " Directorio de C:\\Users\\augus\\Documents\\IRONHACK Data Analytics\\Git\\1.1-lab_bash\\lorem\n",
      "\n"
     ]
    },
    {
     "name": "stderr",
     "output_type": "stream",
     "text": [
      "No se encuentra el archivo\n"
     ]
    }
   ],
   "source": [
    "ls --help"
   ]
  },
  {
   "cell_type": "code",
   "execution_count": null,
   "id": "df08e252",
   "metadata": {},
   "outputs": [],
   "source": []
  }
 ],
 "metadata": {
  "kernelspec": {
   "display_name": "Python 3 (ipykernel)",
   "language": "python",
   "name": "python3"
  },
  "language_info": {
   "codemirror_mode": {
    "name": "ipython",
    "version": 3
   },
   "file_extension": ".py",
   "mimetype": "text/x-python",
   "name": "python",
   "nbconvert_exporter": "python",
   "pygments_lexer": "ipython3",
   "version": "3.9.15"
  },
  "varInspector": {
   "cols": {
    "lenName": 16,
    "lenType": 16,
    "lenVar": 40
   },
   "kernels_config": {
    "python": {
     "delete_cmd_postfix": "",
     "delete_cmd_prefix": "del ",
     "library": "var_list.py",
     "varRefreshCmd": "print(var_dic_list())"
    },
    "r": {
     "delete_cmd_postfix": ") ",
     "delete_cmd_prefix": "rm(",
     "library": "var_list.r",
     "varRefreshCmd": "cat(var_dic_list()) "
    }
   },
   "types_to_exclude": [
    "module",
    "function",
    "builtin_function_or_method",
    "instance",
    "_Feature"
   ],
   "window_display": false
  }
 },
 "nbformat": 4,
 "nbformat_minor": 5
}
