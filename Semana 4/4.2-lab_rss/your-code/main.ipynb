{
 "cells": [
  {
   "cell_type": "markdown",
   "metadata": {},
   "source": [
    "# Working with RSS Feeds Lab\n",
    "\n",
    "Complete the following set of exercises to solidify your knowledge of parsing RSS feeds and extracting information from them."
   ]
  },
  {
   "cell_type": "code",
   "execution_count": 2,
   "metadata": {},
   "outputs": [],
   "source": [
    "import feedparser"
   ]
  },
  {
   "cell_type": "markdown",
   "metadata": {},
   "source": [
    "### 1. Use feedparser to parse the following RSS feed URL."
   ]
  },
  {
   "cell_type": "code",
   "execution_count": 3,
   "metadata": {},
   "outputs": [],
   "source": [
    "nasa = feedparser.parse('https://www.nasa.gov/rss/dyn/mission_pages/kepler/news/kepler-newsandfeatures-RSS.rss')"
   ]
  },
  {
   "cell_type": "markdown",
   "metadata": {},
   "source": [
    "### 2. Obtain a list of components (keys) that are available for this feed."
   ]
  },
  {
   "cell_type": "code",
   "execution_count": 4,
   "metadata": {},
   "outputs": [
    {
     "data": {
      "text/plain": [
       "dict_keys(['bozo', 'entries', 'feed', 'headers', 'href', 'status', 'encoding', 'version', 'namespaces'])"
      ]
     },
     "execution_count": 4,
     "metadata": {},
     "output_type": "execute_result"
    }
   ],
   "source": [
    "nasa.keys()"
   ]
  },
  {
   "cell_type": "markdown",
   "metadata": {},
   "source": [
    "### 3. Obtain a list of components (keys) that are available for the *feed* component of this RSS feed."
   ]
  },
  {
   "cell_type": "code",
   "execution_count": 5,
   "metadata": {},
   "outputs": [
    {
     "data": {
      "text/plain": [
       "dict_keys(['language', 'title', 'title_detail', 'subtitle', 'subtitle_detail', 'links', 'link', 'publisher', 'publisher_detail'])"
      ]
     },
     "execution_count": 5,
     "metadata": {},
     "output_type": "execute_result"
    }
   ],
   "source": [
    "nasa['feed'].keys()"
   ]
  },
  {
   "cell_type": "markdown",
   "metadata": {},
   "source": [
    "### 4. Extract and print the feed title, subtitle, author, and link."
   ]
  },
  {
   "cell_type": "code",
   "execution_count": 6,
   "metadata": {},
   "outputs": [
    {
     "name": "stdout",
     "output_type": "stream",
     "text": [
      "Kepler News and Features\n",
      "Kepler News and Features RSS\n",
      "http://www.nasa.gov/\n",
      "brian.dunbar@nasa.gov\n"
     ]
    }
   ],
   "source": [
    "print(nasa['feed']['title'])\n",
    "print(nasa['feed']['subtitle'])\n",
    "print(nasa['feed']['link'])\n",
    "print(nasa['feed']['publisher'])"
   ]
  },
  {
   "cell_type": "markdown",
   "metadata": {},
   "source": [
    "### 5. Count the number of entries that are contained in this RSS feed."
   ]
  },
  {
   "cell_type": "code",
   "execution_count": 7,
   "metadata": {},
   "outputs": [
    {
     "data": {
      "text/plain": [
       "10"
      ]
     },
     "execution_count": 7,
     "metadata": {},
     "output_type": "execute_result"
    }
   ],
   "source": [
    "len(nasa['entries'])"
   ]
  },
  {
   "cell_type": "markdown",
   "metadata": {},
   "source": [
    "### 6. Obtain a list of components (keys) available for an entry.\n",
    "\n",
    "*Hint: Remember to index first before requesting the keys*"
   ]
  },
  {
   "cell_type": "code",
   "execution_count": 8,
   "metadata": {},
   "outputs": [
    {
     "data": {
      "text/plain": [
       "dict_keys(['title', 'title_detail', 'links', 'link', 'summary', 'summary_detail', 'id', 'guidislink', 'published', 'published_parsed', 'source'])"
      ]
     },
     "execution_count": 8,
     "metadata": {},
     "output_type": "execute_result"
    }
   ],
   "source": [
    "nasa['entries'][0].keys()"
   ]
  },
  {
   "cell_type": "markdown",
   "metadata": {},
   "source": [
    "### 7. Extract a list of entry titles."
   ]
  },
  {
   "cell_type": "code",
   "execution_count": 9,
   "metadata": {},
   "outputs": [
    {
     "data": {
      "text/plain": [
       "[\"New Deep Learning Method Adds 301 Planets to Kepler's Total Count\",\n",
       " 'NASA’s TESS Tunes into an All-sky ‘Symphony’ of Red Giant Stars',\n",
       " 'Planetary Sleuthing Finds Triple-Star World',\n",
       " 'About Half of Sun-Like Stars Could Host Rocky, Potentially Habitable Planets',\n",
       " 'NASA Awards SETI Institute Contract for Planetary Protection Support',\n",
       " 'Gravity Assist: Puffy Planets, Powerful Telescopes, with Knicole Colon',\n",
       " 'Imagining Another Earth',\n",
       " 'NASA’s TESS Enables Breakthrough Study of Perplexing Stellar Pulsations',\n",
       " 'AAS Names 29 NASA-Affiliated Legacy Fellows',\n",
       " 'Kepler-1649c: Earth-Size, Habitable Zone Planet Hides in Plain Sight']"
      ]
     },
     "execution_count": 9,
     "metadata": {},
     "output_type": "execute_result"
    }
   ],
   "source": [
    "entry_tittles = []\n",
    "\n",
    "for entry in nasa['entries']:\n",
    "    entry_tittles.append(entry['title'])\n",
    "entry_tittles"
   ]
  },
  {
   "cell_type": "markdown",
   "metadata": {},
   "source": [
    "### 8. Calculate the percentage of \"Four short links\" entry titles."
   ]
  },
  {
   "cell_type": "code",
   "execution_count": 14,
   "metadata": {},
   "outputs": [
    {
     "data": {
      "text/plain": [
       "{'title': \"New Deep Learning Method Adds 301 Planets to Kepler's Total Count\",\n",
       " 'title_detail': {'type': 'text/plain',\n",
       "  'language': 'en',\n",
       "  'base': 'http://www.nasa.gov/',\n",
       "  'value': \"New Deep Learning Method Adds 301 Planets to Kepler's Total Count\"},\n",
       " 'links': [{'rel': 'alternate',\n",
       "   'type': 'text/html',\n",
       "   'href': 'http://www.nasa.gov/feature/ames/new-deep-learning-method-adds-301-planets-to-keplers-total-count'},\n",
       "  {'length': '7380534',\n",
       "   'type': 'image/gif',\n",
       "   'href': 'http://www.nasa.gov/sites/default/files/styles/1x1_cardfeed/public/thumbnails/image/exoplanet_banner_1.gif?itok=L3rCP01p',\n",
       "   'rel': 'enclosure'}],\n",
       " 'link': 'http://www.nasa.gov/feature/ames/new-deep-learning-method-adds-301-planets-to-keplers-total-count',\n",
       " 'summary': 'Scientists recently added a whopping 301 newly confirmed exoplanets to the total exoplanet tally.',\n",
       " 'summary_detail': {'type': 'text/html',\n",
       "  'language': 'en',\n",
       "  'base': 'http://www.nasa.gov/',\n",
       "  'value': 'Scientists recently added a whopping 301 newly confirmed exoplanets to the total exoplanet tally.'},\n",
       " 'id': 'http://www.nasa.gov/feature/ames/new-deep-learning-method-adds-301-planets-to-keplers-total-count',\n",
       " 'guidislink': False,\n",
       " 'published': 'Mon, 22 Nov 2021 20:36 EST',\n",
       " 'published_parsed': time.struct_time(tm_year=2021, tm_mon=11, tm_mday=23, tm_hour=1, tm_min=36, tm_sec=0, tm_wday=1, tm_yday=327, tm_isdst=0),\n",
       " 'source': {'href': 'http://www.nasa.gov/rss/dyn/mission_pages/kepler/news/kepler-newsandfeatures-RSS.rss',\n",
       "  'title': 'Kepler News and Features'}}"
      ]
     },
     "execution_count": 14,
     "metadata": {},
     "output_type": "execute_result"
    }
   ],
   "source": [
    "# No entiendo muy bien esta pregunta. No sé a que se refiere con \"Four short links\"\n",
    "nasa['entries'][0]"
   ]
  },
  {
   "cell_type": "markdown",
   "metadata": {},
   "source": [
    "### 9. Create a Pandas data frame from the feed's entries."
   ]
  },
  {
   "cell_type": "code",
   "execution_count": 16,
   "metadata": {},
   "outputs": [],
   "source": [
    "import pandas as pd"
   ]
  },
  {
   "cell_type": "code",
   "execution_count": 18,
   "metadata": {},
   "outputs": [
    {
     "data": {
      "text/html": [
       "<div>\n",
       "<style scoped>\n",
       "    .dataframe tbody tr th:only-of-type {\n",
       "        vertical-align: middle;\n",
       "    }\n",
       "\n",
       "    .dataframe tbody tr th {\n",
       "        vertical-align: top;\n",
       "    }\n",
       "\n",
       "    .dataframe thead th {\n",
       "        text-align: right;\n",
       "    }\n",
       "</style>\n",
       "<table border=\"1\" class=\"dataframe\">\n",
       "  <thead>\n",
       "    <tr style=\"text-align: right;\">\n",
       "      <th></th>\n",
       "      <th>title</th>\n",
       "      <th>title_detail</th>\n",
       "      <th>links</th>\n",
       "      <th>link</th>\n",
       "      <th>summary</th>\n",
       "      <th>summary_detail</th>\n",
       "      <th>id</th>\n",
       "      <th>guidislink</th>\n",
       "      <th>published</th>\n",
       "      <th>published_parsed</th>\n",
       "      <th>source</th>\n",
       "    </tr>\n",
       "  </thead>\n",
       "  <tbody>\n",
       "    <tr>\n",
       "      <th>0</th>\n",
       "      <td>New Deep Learning Method Adds 301 Planets to K...</td>\n",
       "      <td>{'type': 'text/plain', 'language': 'en', 'base...</td>\n",
       "      <td>[{'rel': 'alternate', 'type': 'text/html', 'hr...</td>\n",
       "      <td>http://www.nasa.gov/feature/ames/new-deep-lear...</td>\n",
       "      <td>Scientists recently added a whopping 301 newly...</td>\n",
       "      <td>{'type': 'text/html', 'language': 'en', 'base'...</td>\n",
       "      <td>http://www.nasa.gov/feature/ames/new-deep-lear...</td>\n",
       "      <td>False</td>\n",
       "      <td>Mon, 22 Nov 2021 20:36 EST</td>\n",
       "      <td>(2021, 11, 23, 1, 36, 0, 1, 327, 0)</td>\n",
       "      <td>{'href': 'http://www.nasa.gov/rss/dyn/mission_...</td>\n",
       "    </tr>\n",
       "    <tr>\n",
       "      <th>1</th>\n",
       "      <td>NASA’s TESS Tunes into an All-sky ‘Symphony’ o...</td>\n",
       "      <td>{'type': 'text/plain', 'language': 'en', 'base...</td>\n",
       "      <td>[{'rel': 'alternate', 'type': 'text/html', 'hr...</td>\n",
       "      <td>http://www.nasa.gov/feature/goddard/2021/nasa-...</td>\n",
       "      <td>Using NASA’s Transiting Exoplanet Survey Satel...</td>\n",
       "      <td>{'type': 'text/html', 'language': 'en', 'base'...</td>\n",
       "      <td>http://www.nasa.gov/feature/goddard/2021/nasa-...</td>\n",
       "      <td>False</td>\n",
       "      <td>Wed, 04 Aug 2021 17:00 EDT</td>\n",
       "      <td>(2021, 8, 4, 21, 0, 0, 2, 216, 0)</td>\n",
       "      <td>{'href': 'http://www.nasa.gov/rss/dyn/mission_...</td>\n",
       "    </tr>\n",
       "    <tr>\n",
       "      <th>2</th>\n",
       "      <td>Planetary Sleuthing Finds Triple-Star World</td>\n",
       "      <td>{'type': 'text/plain', 'language': 'en', 'base...</td>\n",
       "      <td>[{'rel': 'alternate', 'type': 'text/html', 'hr...</td>\n",
       "      <td>http://www.nasa.gov/feature/ames/planetary-sle...</td>\n",
       "      <td>Years after its detection, astronomers have co...</td>\n",
       "      <td>{'type': 'text/html', 'language': 'en', 'base'...</td>\n",
       "      <td>http://www.nasa.gov/feature/ames/planetary-sle...</td>\n",
       "      <td>False</td>\n",
       "      <td>Mon, 11 Jan 2021 13:40 EST</td>\n",
       "      <td>(2021, 1, 11, 18, 40, 0, 0, 11, 0)</td>\n",
       "      <td>{'href': 'http://www.nasa.gov/rss/dyn/mission_...</td>\n",
       "    </tr>\n",
       "    <tr>\n",
       "      <th>3</th>\n",
       "      <td>About Half of Sun-Like Stars Could Host Rocky,...</td>\n",
       "      <td>{'type': 'text/plain', 'language': 'en', 'base...</td>\n",
       "      <td>[{'rel': 'alternate', 'type': 'text/html', 'hr...</td>\n",
       "      <td>http://www.nasa.gov/feature/ames/kepler-occurr...</td>\n",
       "      <td>According to new research using data from NASA...</td>\n",
       "      <td>{'type': 'text/html', 'language': 'en', 'base'...</td>\n",
       "      <td>http://www.nasa.gov/feature/ames/kepler-occurr...</td>\n",
       "      <td>False</td>\n",
       "      <td>Thu, 29 Oct 2020 07:00 EDT</td>\n",
       "      <td>(2020, 10, 29, 11, 0, 0, 3, 303, 0)</td>\n",
       "      <td>{'href': 'http://www.nasa.gov/rss/dyn/mission_...</td>\n",
       "    </tr>\n",
       "    <tr>\n",
       "      <th>4</th>\n",
       "      <td>NASA Awards SETI Institute Contract for Planet...</td>\n",
       "      <td>{'type': 'text/plain', 'language': 'en', 'base...</td>\n",
       "      <td>[{'rel': 'alternate', 'type': 'text/html', 'hr...</td>\n",
       "      <td>http://www.nasa.gov/press-release/nasa-awards-...</td>\n",
       "      <td>NASA has awarded the SETI Institute in Mountai...</td>\n",
       "      <td>{'type': 'text/html', 'language': 'en', 'base'...</td>\n",
       "      <td>http://www.nasa.gov/press-release/nasa-awards-...</td>\n",
       "      <td>False</td>\n",
       "      <td>Fri, 10 Jul 2020 12:04 EDT</td>\n",
       "      <td>(2020, 7, 10, 16, 4, 0, 4, 192, 0)</td>\n",
       "      <td>{'href': 'http://www.nasa.gov/rss/dyn/mission_...</td>\n",
       "    </tr>\n",
       "  </tbody>\n",
       "</table>\n",
       "</div>"
      ],
      "text/plain": [
       "                                               title   \n",
       "0  New Deep Learning Method Adds 301 Planets to K...  \\\n",
       "1  NASA’s TESS Tunes into an All-sky ‘Symphony’ o...   \n",
       "2        Planetary Sleuthing Finds Triple-Star World   \n",
       "3  About Half of Sun-Like Stars Could Host Rocky,...   \n",
       "4  NASA Awards SETI Institute Contract for Planet...   \n",
       "\n",
       "                                        title_detail   \n",
       "0  {'type': 'text/plain', 'language': 'en', 'base...  \\\n",
       "1  {'type': 'text/plain', 'language': 'en', 'base...   \n",
       "2  {'type': 'text/plain', 'language': 'en', 'base...   \n",
       "3  {'type': 'text/plain', 'language': 'en', 'base...   \n",
       "4  {'type': 'text/plain', 'language': 'en', 'base...   \n",
       "\n",
       "                                               links   \n",
       "0  [{'rel': 'alternate', 'type': 'text/html', 'hr...  \\\n",
       "1  [{'rel': 'alternate', 'type': 'text/html', 'hr...   \n",
       "2  [{'rel': 'alternate', 'type': 'text/html', 'hr...   \n",
       "3  [{'rel': 'alternate', 'type': 'text/html', 'hr...   \n",
       "4  [{'rel': 'alternate', 'type': 'text/html', 'hr...   \n",
       "\n",
       "                                                link   \n",
       "0  http://www.nasa.gov/feature/ames/new-deep-lear...  \\\n",
       "1  http://www.nasa.gov/feature/goddard/2021/nasa-...   \n",
       "2  http://www.nasa.gov/feature/ames/planetary-sle...   \n",
       "3  http://www.nasa.gov/feature/ames/kepler-occurr...   \n",
       "4  http://www.nasa.gov/press-release/nasa-awards-...   \n",
       "\n",
       "                                             summary   \n",
       "0  Scientists recently added a whopping 301 newly...  \\\n",
       "1  Using NASA’s Transiting Exoplanet Survey Satel...   \n",
       "2  Years after its detection, astronomers have co...   \n",
       "3  According to new research using data from NASA...   \n",
       "4  NASA has awarded the SETI Institute in Mountai...   \n",
       "\n",
       "                                      summary_detail   \n",
       "0  {'type': 'text/html', 'language': 'en', 'base'...  \\\n",
       "1  {'type': 'text/html', 'language': 'en', 'base'...   \n",
       "2  {'type': 'text/html', 'language': 'en', 'base'...   \n",
       "3  {'type': 'text/html', 'language': 'en', 'base'...   \n",
       "4  {'type': 'text/html', 'language': 'en', 'base'...   \n",
       "\n",
       "                                                  id  guidislink   \n",
       "0  http://www.nasa.gov/feature/ames/new-deep-lear...       False  \\\n",
       "1  http://www.nasa.gov/feature/goddard/2021/nasa-...       False   \n",
       "2  http://www.nasa.gov/feature/ames/planetary-sle...       False   \n",
       "3  http://www.nasa.gov/feature/ames/kepler-occurr...       False   \n",
       "4  http://www.nasa.gov/press-release/nasa-awards-...       False   \n",
       "\n",
       "                    published                     published_parsed   \n",
       "0  Mon, 22 Nov 2021 20:36 EST  (2021, 11, 23, 1, 36, 0, 1, 327, 0)  \\\n",
       "1  Wed, 04 Aug 2021 17:00 EDT    (2021, 8, 4, 21, 0, 0, 2, 216, 0)   \n",
       "2  Mon, 11 Jan 2021 13:40 EST   (2021, 1, 11, 18, 40, 0, 0, 11, 0)   \n",
       "3  Thu, 29 Oct 2020 07:00 EDT  (2020, 10, 29, 11, 0, 0, 3, 303, 0)   \n",
       "4  Fri, 10 Jul 2020 12:04 EDT   (2020, 7, 10, 16, 4, 0, 4, 192, 0)   \n",
       "\n",
       "                                              source  \n",
       "0  {'href': 'http://www.nasa.gov/rss/dyn/mission_...  \n",
       "1  {'href': 'http://www.nasa.gov/rss/dyn/mission_...  \n",
       "2  {'href': 'http://www.nasa.gov/rss/dyn/mission_...  \n",
       "3  {'href': 'http://www.nasa.gov/rss/dyn/mission_...  \n",
       "4  {'href': 'http://www.nasa.gov/rss/dyn/mission_...  "
      ]
     },
     "execution_count": 18,
     "metadata": {},
     "output_type": "execute_result"
    }
   ],
   "source": [
    "df_nasa =pd.DataFrame(nasa['entries'])\n",
    "df_nasa.head()"
   ]
  },
  {
   "cell_type": "markdown",
   "metadata": {},
   "source": [
    "### 10. Count the number of entries per author and sort them in descending order."
   ]
  },
  {
   "cell_type": "code",
   "execution_count": null,
   "metadata": {},
   "outputs": [],
   "source": []
  },
  {
   "cell_type": "markdown",
   "metadata": {},
   "source": [
    "### 11. Add a new column to the data frame that contains the length (number of characters) of each entry title. Return a data frame that contains the title, author, and title length of each entry in descending order (longest title length at the top)."
   ]
  },
  {
   "cell_type": "code",
   "execution_count": 21,
   "metadata": {},
   "outputs": [
    {
     "data": {
      "text/html": [
       "<div>\n",
       "<style scoped>\n",
       "    .dataframe tbody tr th:only-of-type {\n",
       "        vertical-align: middle;\n",
       "    }\n",
       "\n",
       "    .dataframe tbody tr th {\n",
       "        vertical-align: top;\n",
       "    }\n",
       "\n",
       "    .dataframe thead th {\n",
       "        text-align: right;\n",
       "    }\n",
       "</style>\n",
       "<table border=\"1\" class=\"dataframe\">\n",
       "  <thead>\n",
       "    <tr style=\"text-align: right;\">\n",
       "      <th></th>\n",
       "      <th>title</th>\n",
       "      <th>title_detail</th>\n",
       "      <th>links</th>\n",
       "      <th>link</th>\n",
       "      <th>summary</th>\n",
       "      <th>summary_detail</th>\n",
       "      <th>id</th>\n",
       "      <th>guidislink</th>\n",
       "      <th>published</th>\n",
       "      <th>published_parsed</th>\n",
       "      <th>source</th>\n",
       "      <th>Num_Char</th>\n",
       "    </tr>\n",
       "  </thead>\n",
       "  <tbody>\n",
       "    <tr>\n",
       "      <th>3</th>\n",
       "      <td>About Half of Sun-Like Stars Could Host Rocky,...</td>\n",
       "      <td>{'type': 'text/plain', 'language': 'en', 'base...</td>\n",
       "      <td>[{'rel': 'alternate', 'type': 'text/html', 'hr...</td>\n",
       "      <td>http://www.nasa.gov/feature/ames/kepler-occurr...</td>\n",
       "      <td>According to new research using data from NASA...</td>\n",
       "      <td>{'type': 'text/html', 'language': 'en', 'base'...</td>\n",
       "      <td>http://www.nasa.gov/feature/ames/kepler-occurr...</td>\n",
       "      <td>False</td>\n",
       "      <td>Thu, 29 Oct 2020 07:00 EDT</td>\n",
       "      <td>(2020, 10, 29, 11, 0, 0, 3, 303, 0)</td>\n",
       "      <td>{'href': 'http://www.nasa.gov/rss/dyn/mission_...</td>\n",
       "      <td>76</td>\n",
       "    </tr>\n",
       "    <tr>\n",
       "      <th>7</th>\n",
       "      <td>NASA’s TESS Enables Breakthrough Study of Perp...</td>\n",
       "      <td>{'type': 'text/plain', 'language': 'en', 'base...</td>\n",
       "      <td>[{'rel': 'alternate', 'type': 'text/html', 'hr...</td>\n",
       "      <td>http://www.nasa.gov/feature/goddard/2020/nasa-...</td>\n",
       "      <td>Astronomers have detected elusive pulsation pa...</td>\n",
       "      <td>{'type': 'text/html', 'language': 'en', 'base'...</td>\n",
       "      <td>http://www.nasa.gov/feature/goddard/2020/nasa-...</td>\n",
       "      <td>False</td>\n",
       "      <td>Wed, 13 May 2020 11:00 EDT</td>\n",
       "      <td>(2020, 5, 13, 15, 0, 0, 2, 134, 0)</td>\n",
       "      <td>{'href': 'http://www.nasa.gov/rss/dyn/mission_...</td>\n",
       "      <td>71</td>\n",
       "    </tr>\n",
       "    <tr>\n",
       "      <th>5</th>\n",
       "      <td>Gravity Assist: Puffy Planets, Powerful Telesc...</td>\n",
       "      <td>{'type': 'text/plain', 'language': 'en', 'base...</td>\n",
       "      <td>[{'rel': 'alternate', 'type': 'text/html', 'hr...</td>\n",
       "      <td>http://www.nasa.gov/mediacast/gravity-assist-p...</td>\n",
       "      <td>NASA astrophysicist Knicole Colon describes he...</td>\n",
       "      <td>{'type': 'text/html', 'language': 'en', 'base'...</td>\n",
       "      <td>http://www.nasa.gov/mediacast/gravity-assist-p...</td>\n",
       "      <td>False</td>\n",
       "      <td>Fri, 12 Jun 2020 09:01 EDT</td>\n",
       "      <td>(2020, 6, 12, 13, 1, 0, 4, 164, 0)</td>\n",
       "      <td>{'href': 'http://www.nasa.gov/rss/dyn/mission_...</td>\n",
       "      <td>70</td>\n",
       "    </tr>\n",
       "    <tr>\n",
       "      <th>4</th>\n",
       "      <td>NASA Awards SETI Institute Contract for Planet...</td>\n",
       "      <td>{'type': 'text/plain', 'language': 'en', 'base...</td>\n",
       "      <td>[{'rel': 'alternate', 'type': 'text/html', 'hr...</td>\n",
       "      <td>http://www.nasa.gov/press-release/nasa-awards-...</td>\n",
       "      <td>NASA has awarded the SETI Institute in Mountai...</td>\n",
       "      <td>{'type': 'text/html', 'language': 'en', 'base'...</td>\n",
       "      <td>http://www.nasa.gov/press-release/nasa-awards-...</td>\n",
       "      <td>False</td>\n",
       "      <td>Fri, 10 Jul 2020 12:04 EDT</td>\n",
       "      <td>(2020, 7, 10, 16, 4, 0, 4, 192, 0)</td>\n",
       "      <td>{'href': 'http://www.nasa.gov/rss/dyn/mission_...</td>\n",
       "      <td>68</td>\n",
       "    </tr>\n",
       "    <tr>\n",
       "      <th>9</th>\n",
       "      <td>Kepler-1649c: Earth-Size, Habitable Zone Plane...</td>\n",
       "      <td>{'type': 'text/plain', 'language': 'en', 'base...</td>\n",
       "      <td>[{'rel': 'alternate', 'type': 'text/html', 'hr...</td>\n",
       "      <td>http://www.nasa.gov/image-feature/kepler-1649c...</td>\n",
       "      <td>This artist's illustration shows what Kepler-1...</td>\n",
       "      <td>{'type': 'text/html', 'language': 'en', 'base'...</td>\n",
       "      <td>http://www.nasa.gov/image-feature/kepler-1649c...</td>\n",
       "      <td>False</td>\n",
       "      <td>Thu, 16 Apr 2020 02:13 EDT</td>\n",
       "      <td>(2020, 4, 16, 6, 13, 0, 3, 107, 0)</td>\n",
       "      <td>{'href': 'http://www.nasa.gov/rss/dyn/mission_...</td>\n",
       "      <td>68</td>\n",
       "    </tr>\n",
       "    <tr>\n",
       "      <th>0</th>\n",
       "      <td>New Deep Learning Method Adds 301 Planets to K...</td>\n",
       "      <td>{'type': 'text/plain', 'language': 'en', 'base...</td>\n",
       "      <td>[{'rel': 'alternate', 'type': 'text/html', 'hr...</td>\n",
       "      <td>http://www.nasa.gov/feature/ames/new-deep-lear...</td>\n",
       "      <td>Scientists recently added a whopping 301 newly...</td>\n",
       "      <td>{'type': 'text/html', 'language': 'en', 'base'...</td>\n",
       "      <td>http://www.nasa.gov/feature/ames/new-deep-lear...</td>\n",
       "      <td>False</td>\n",
       "      <td>Mon, 22 Nov 2021 20:36 EST</td>\n",
       "      <td>(2021, 11, 23, 1, 36, 0, 1, 327, 0)</td>\n",
       "      <td>{'href': 'http://www.nasa.gov/rss/dyn/mission_...</td>\n",
       "      <td>65</td>\n",
       "    </tr>\n",
       "    <tr>\n",
       "      <th>1</th>\n",
       "      <td>NASA’s TESS Tunes into an All-sky ‘Symphony’ o...</td>\n",
       "      <td>{'type': 'text/plain', 'language': 'en', 'base...</td>\n",
       "      <td>[{'rel': 'alternate', 'type': 'text/html', 'hr...</td>\n",
       "      <td>http://www.nasa.gov/feature/goddard/2021/nasa-...</td>\n",
       "      <td>Using NASA’s Transiting Exoplanet Survey Satel...</td>\n",
       "      <td>{'type': 'text/html', 'language': 'en', 'base'...</td>\n",
       "      <td>http://www.nasa.gov/feature/goddard/2021/nasa-...</td>\n",
       "      <td>False</td>\n",
       "      <td>Wed, 04 Aug 2021 17:00 EDT</td>\n",
       "      <td>(2021, 8, 4, 21, 0, 0, 2, 216, 0)</td>\n",
       "      <td>{'href': 'http://www.nasa.gov/rss/dyn/mission_...</td>\n",
       "      <td>63</td>\n",
       "    </tr>\n",
       "    <tr>\n",
       "      <th>2</th>\n",
       "      <td>Planetary Sleuthing Finds Triple-Star World</td>\n",
       "      <td>{'type': 'text/plain', 'language': 'en', 'base...</td>\n",
       "      <td>[{'rel': 'alternate', 'type': 'text/html', 'hr...</td>\n",
       "      <td>http://www.nasa.gov/feature/ames/planetary-sle...</td>\n",
       "      <td>Years after its detection, astronomers have co...</td>\n",
       "      <td>{'type': 'text/html', 'language': 'en', 'base'...</td>\n",
       "      <td>http://www.nasa.gov/feature/ames/planetary-sle...</td>\n",
       "      <td>False</td>\n",
       "      <td>Mon, 11 Jan 2021 13:40 EST</td>\n",
       "      <td>(2021, 1, 11, 18, 40, 0, 0, 11, 0)</td>\n",
       "      <td>{'href': 'http://www.nasa.gov/rss/dyn/mission_...</td>\n",
       "      <td>43</td>\n",
       "    </tr>\n",
       "    <tr>\n",
       "      <th>8</th>\n",
       "      <td>AAS Names 29 NASA-Affiliated Legacy Fellows</td>\n",
       "      <td>{'type': 'text/plain', 'language': 'en', 'base...</td>\n",
       "      <td>[{'rel': 'alternate', 'type': 'text/html', 'hr...</td>\n",
       "      <td>http://www.nasa.gov/feature/aas-names-29-nasa-...</td>\n",
       "      <td>Twenty-nine scientists working at or affiliate...</td>\n",
       "      <td>{'type': 'text/html', 'language': 'en', 'base'...</td>\n",
       "      <td>http://www.nasa.gov/feature/aas-names-29-nasa-...</td>\n",
       "      <td>False</td>\n",
       "      <td>Thu, 30 Apr 2020 09:00 EDT</td>\n",
       "      <td>(2020, 4, 30, 13, 0, 0, 3, 121, 0)</td>\n",
       "      <td>{'href': 'http://www.nasa.gov/rss/dyn/mission_...</td>\n",
       "      <td>43</td>\n",
       "    </tr>\n",
       "    <tr>\n",
       "      <th>6</th>\n",
       "      <td>Imagining Another Earth</td>\n",
       "      <td>{'type': 'text/plain', 'language': 'en', 'base...</td>\n",
       "      <td>[{'rel': 'alternate', 'type': 'text/html', 'hr...</td>\n",
       "      <td>http://www.nasa.gov/image-feature/imagining-an...</td>\n",
       "      <td>This artist's concept shows exoplanet Kepler-1...</td>\n",
       "      <td>{'type': 'text/html', 'language': 'en', 'base'...</td>\n",
       "      <td>http://www.nasa.gov/image-feature/imagining-an...</td>\n",
       "      <td>False</td>\n",
       "      <td>Thu, 28 May 2020 10:27 EDT</td>\n",
       "      <td>(2020, 5, 28, 14, 27, 0, 3, 149, 0)</td>\n",
       "      <td>{'href': 'http://www.nasa.gov/rss/dyn/mission_...</td>\n",
       "      <td>23</td>\n",
       "    </tr>\n",
       "  </tbody>\n",
       "</table>\n",
       "</div>"
      ],
      "text/plain": [
       "                                               title   \n",
       "3  About Half of Sun-Like Stars Could Host Rocky,...  \\\n",
       "7  NASA’s TESS Enables Breakthrough Study of Perp...   \n",
       "5  Gravity Assist: Puffy Planets, Powerful Telesc...   \n",
       "4  NASA Awards SETI Institute Contract for Planet...   \n",
       "9  Kepler-1649c: Earth-Size, Habitable Zone Plane...   \n",
       "0  New Deep Learning Method Adds 301 Planets to K...   \n",
       "1  NASA’s TESS Tunes into an All-sky ‘Symphony’ o...   \n",
       "2        Planetary Sleuthing Finds Triple-Star World   \n",
       "8        AAS Names 29 NASA-Affiliated Legacy Fellows   \n",
       "6                            Imagining Another Earth   \n",
       "\n",
       "                                        title_detail   \n",
       "3  {'type': 'text/plain', 'language': 'en', 'base...  \\\n",
       "7  {'type': 'text/plain', 'language': 'en', 'base...   \n",
       "5  {'type': 'text/plain', 'language': 'en', 'base...   \n",
       "4  {'type': 'text/plain', 'language': 'en', 'base...   \n",
       "9  {'type': 'text/plain', 'language': 'en', 'base...   \n",
       "0  {'type': 'text/plain', 'language': 'en', 'base...   \n",
       "1  {'type': 'text/plain', 'language': 'en', 'base...   \n",
       "2  {'type': 'text/plain', 'language': 'en', 'base...   \n",
       "8  {'type': 'text/plain', 'language': 'en', 'base...   \n",
       "6  {'type': 'text/plain', 'language': 'en', 'base...   \n",
       "\n",
       "                                               links   \n",
       "3  [{'rel': 'alternate', 'type': 'text/html', 'hr...  \\\n",
       "7  [{'rel': 'alternate', 'type': 'text/html', 'hr...   \n",
       "5  [{'rel': 'alternate', 'type': 'text/html', 'hr...   \n",
       "4  [{'rel': 'alternate', 'type': 'text/html', 'hr...   \n",
       "9  [{'rel': 'alternate', 'type': 'text/html', 'hr...   \n",
       "0  [{'rel': 'alternate', 'type': 'text/html', 'hr...   \n",
       "1  [{'rel': 'alternate', 'type': 'text/html', 'hr...   \n",
       "2  [{'rel': 'alternate', 'type': 'text/html', 'hr...   \n",
       "8  [{'rel': 'alternate', 'type': 'text/html', 'hr...   \n",
       "6  [{'rel': 'alternate', 'type': 'text/html', 'hr...   \n",
       "\n",
       "                                                link   \n",
       "3  http://www.nasa.gov/feature/ames/kepler-occurr...  \\\n",
       "7  http://www.nasa.gov/feature/goddard/2020/nasa-...   \n",
       "5  http://www.nasa.gov/mediacast/gravity-assist-p...   \n",
       "4  http://www.nasa.gov/press-release/nasa-awards-...   \n",
       "9  http://www.nasa.gov/image-feature/kepler-1649c...   \n",
       "0  http://www.nasa.gov/feature/ames/new-deep-lear...   \n",
       "1  http://www.nasa.gov/feature/goddard/2021/nasa-...   \n",
       "2  http://www.nasa.gov/feature/ames/planetary-sle...   \n",
       "8  http://www.nasa.gov/feature/aas-names-29-nasa-...   \n",
       "6  http://www.nasa.gov/image-feature/imagining-an...   \n",
       "\n",
       "                                             summary   \n",
       "3  According to new research using data from NASA...  \\\n",
       "7  Astronomers have detected elusive pulsation pa...   \n",
       "5  NASA astrophysicist Knicole Colon describes he...   \n",
       "4  NASA has awarded the SETI Institute in Mountai...   \n",
       "9  This artist's illustration shows what Kepler-1...   \n",
       "0  Scientists recently added a whopping 301 newly...   \n",
       "1  Using NASA’s Transiting Exoplanet Survey Satel...   \n",
       "2  Years after its detection, astronomers have co...   \n",
       "8  Twenty-nine scientists working at or affiliate...   \n",
       "6  This artist's concept shows exoplanet Kepler-1...   \n",
       "\n",
       "                                      summary_detail   \n",
       "3  {'type': 'text/html', 'language': 'en', 'base'...  \\\n",
       "7  {'type': 'text/html', 'language': 'en', 'base'...   \n",
       "5  {'type': 'text/html', 'language': 'en', 'base'...   \n",
       "4  {'type': 'text/html', 'language': 'en', 'base'...   \n",
       "9  {'type': 'text/html', 'language': 'en', 'base'...   \n",
       "0  {'type': 'text/html', 'language': 'en', 'base'...   \n",
       "1  {'type': 'text/html', 'language': 'en', 'base'...   \n",
       "2  {'type': 'text/html', 'language': 'en', 'base'...   \n",
       "8  {'type': 'text/html', 'language': 'en', 'base'...   \n",
       "6  {'type': 'text/html', 'language': 'en', 'base'...   \n",
       "\n",
       "                                                  id  guidislink   \n",
       "3  http://www.nasa.gov/feature/ames/kepler-occurr...       False  \\\n",
       "7  http://www.nasa.gov/feature/goddard/2020/nasa-...       False   \n",
       "5  http://www.nasa.gov/mediacast/gravity-assist-p...       False   \n",
       "4  http://www.nasa.gov/press-release/nasa-awards-...       False   \n",
       "9  http://www.nasa.gov/image-feature/kepler-1649c...       False   \n",
       "0  http://www.nasa.gov/feature/ames/new-deep-lear...       False   \n",
       "1  http://www.nasa.gov/feature/goddard/2021/nasa-...       False   \n",
       "2  http://www.nasa.gov/feature/ames/planetary-sle...       False   \n",
       "8  http://www.nasa.gov/feature/aas-names-29-nasa-...       False   \n",
       "6  http://www.nasa.gov/image-feature/imagining-an...       False   \n",
       "\n",
       "                    published                     published_parsed   \n",
       "3  Thu, 29 Oct 2020 07:00 EDT  (2020, 10, 29, 11, 0, 0, 3, 303, 0)  \\\n",
       "7  Wed, 13 May 2020 11:00 EDT   (2020, 5, 13, 15, 0, 0, 2, 134, 0)   \n",
       "5  Fri, 12 Jun 2020 09:01 EDT   (2020, 6, 12, 13, 1, 0, 4, 164, 0)   \n",
       "4  Fri, 10 Jul 2020 12:04 EDT   (2020, 7, 10, 16, 4, 0, 4, 192, 0)   \n",
       "9  Thu, 16 Apr 2020 02:13 EDT   (2020, 4, 16, 6, 13, 0, 3, 107, 0)   \n",
       "0  Mon, 22 Nov 2021 20:36 EST  (2021, 11, 23, 1, 36, 0, 1, 327, 0)   \n",
       "1  Wed, 04 Aug 2021 17:00 EDT    (2021, 8, 4, 21, 0, 0, 2, 216, 0)   \n",
       "2  Mon, 11 Jan 2021 13:40 EST   (2021, 1, 11, 18, 40, 0, 0, 11, 0)   \n",
       "8  Thu, 30 Apr 2020 09:00 EDT   (2020, 4, 30, 13, 0, 0, 3, 121, 0)   \n",
       "6  Thu, 28 May 2020 10:27 EDT  (2020, 5, 28, 14, 27, 0, 3, 149, 0)   \n",
       "\n",
       "                                              source  Num_Char  \n",
       "3  {'href': 'http://www.nasa.gov/rss/dyn/mission_...        76  \n",
       "7  {'href': 'http://www.nasa.gov/rss/dyn/mission_...        71  \n",
       "5  {'href': 'http://www.nasa.gov/rss/dyn/mission_...        70  \n",
       "4  {'href': 'http://www.nasa.gov/rss/dyn/mission_...        68  \n",
       "9  {'href': 'http://www.nasa.gov/rss/dyn/mission_...        68  \n",
       "0  {'href': 'http://www.nasa.gov/rss/dyn/mission_...        65  \n",
       "1  {'href': 'http://www.nasa.gov/rss/dyn/mission_...        63  \n",
       "2  {'href': 'http://www.nasa.gov/rss/dyn/mission_...        43  \n",
       "8  {'href': 'http://www.nasa.gov/rss/dyn/mission_...        43  \n",
       "6  {'href': 'http://www.nasa.gov/rss/dyn/mission_...        23  "
      ]
     },
     "execution_count": 21,
     "metadata": {},
     "output_type": "execute_result"
    }
   ],
   "source": [
    "df_nasa['Num_Char'] = df_nasa.title.apply(len)\n",
    "df_nasa.sort_values('Num_Char',ascending=False)"
   ]
  },
  {
   "cell_type": "markdown",
   "metadata": {},
   "source": [
    "### 12. Create a list of entry titles whose summary includes the phrase \"machine learning.\""
   ]
  },
  {
   "cell_type": "code",
   "execution_count": 22,
   "metadata": {},
   "outputs": [
    {
     "data": {
      "text/plain": [
       "0    False\n",
       "1    False\n",
       "2    False\n",
       "3    False\n",
       "4    False\n",
       "5    False\n",
       "6    False\n",
       "7    False\n",
       "8    False\n",
       "9    False\n",
       "Name: summary, dtype: bool"
      ]
     },
     "execution_count": 22,
     "metadata": {},
     "output_type": "execute_result"
    }
   ],
   "source": [
    "df_nasa.summary.str.contains('machine learning')"
   ]
  },
  {
   "cell_type": "code",
   "execution_count": null,
   "metadata": {},
   "outputs": [],
   "source": []
  }
 ],
 "metadata": {
  "kernelspec": {
   "display_name": "Python 3 (ipykernel)",
   "language": "python",
   "name": "python3"
  },
  "language_info": {
   "codemirror_mode": {
    "name": "ipython",
    "version": 3
   },
   "file_extension": ".py",
   "mimetype": "text/x-python",
   "name": "python",
   "nbconvert_exporter": "python",
   "pygments_lexer": "ipython3",
   "version": "3.9.15"
  },
  "varInspector": {
   "cols": {
    "lenName": 16,
    "lenType": 16,
    "lenVar": 40
   },
   "kernels_config": {
    "python": {
     "delete_cmd_postfix": "",
     "delete_cmd_prefix": "del ",
     "library": "var_list.py",
     "varRefreshCmd": "print(var_dic_list())"
    },
    "r": {
     "delete_cmd_postfix": ") ",
     "delete_cmd_prefix": "rm(",
     "library": "var_list.r",
     "varRefreshCmd": "cat(var_dic_list()) "
    }
   },
   "types_to_exclude": [
    "module",
    "function",
    "builtin_function_or_method",
    "instance",
    "_Feature"
   ],
   "window_display": false
  }
 },
 "nbformat": 4,
 "nbformat_minor": 2
}
