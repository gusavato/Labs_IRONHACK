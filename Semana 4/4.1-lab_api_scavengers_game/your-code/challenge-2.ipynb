{
 "cells": [
  {
   "cell_type": "markdown",
   "id": "threaded-asbestos",
   "metadata": {},
   "source": [
    "# Challenge 2: Count Commits\n",
    "\n",
    "Count how many commits were made in the past week.\n",
    "\n",
    "Obtain all the commits made in the past week via API, which is a JSON array that contains multiple commit objects.\n",
    "\n",
    "Count how many commit objects are contained in the array."
   ]
  },
  {
   "cell_type": "markdown",
   "id": "norwegian-praise",
   "metadata": {},
   "source": [
    "⚠️ **Remember to limit your output before submission**."
   ]
  },
  {
   "cell_type": "code",
   "execution_count": 1,
   "id": "developing-printing",
   "metadata": {},
   "outputs": [],
   "source": [
    "#Your code\n",
    "import requests\n",
    "from password import TOKEN"
   ]
  },
  {
   "cell_type": "code",
   "execution_count": 2,
   "id": "creative-stable",
   "metadata": {},
   "outputs": [
    {
     "data": {
      "text/plain": [
       "<Response [200]>"
      ]
     },
     "execution_count": 2,
     "metadata": {},
     "output_type": "execute_result"
    }
   ],
   "source": [
    "url = 'https://api.github.com/repos/ironhack-datalabs/datamad1020-rev'\n",
    "HEADER={'Authorization': 'token ' + TOKEN}\n",
    "res_git=requests.get(url, headers=HEADER)\n",
    "res_git"
   ]
  },
  {
   "cell_type": "code",
   "execution_count": 3,
   "id": "ongoing-taylor",
   "metadata": {},
   "outputs": [
    {
     "data": {
      "text/plain": [
       "dict_keys(['id', 'node_id', 'name', 'full_name', 'private', 'owner', 'html_url', 'description', 'fork', 'url', 'forks_url', 'keys_url', 'collaborators_url', 'teams_url', 'hooks_url', 'issue_events_url', 'events_url', 'assignees_url', 'branches_url', 'tags_url', 'blobs_url', 'git_tags_url', 'git_refs_url', 'trees_url', 'statuses_url', 'languages_url', 'stargazers_url', 'contributors_url', 'subscribers_url', 'subscription_url', 'commits_url', 'git_commits_url', 'comments_url', 'issue_comment_url', 'contents_url', 'compare_url', 'merges_url', 'archive_url', 'downloads_url', 'issues_url', 'pulls_url', 'milestones_url', 'notifications_url', 'labels_url', 'releases_url', 'deployments_url', 'created_at', 'updated_at', 'pushed_at', 'git_url', 'ssh_url', 'clone_url', 'svn_url', 'homepage', 'size', 'stargazers_count', 'watchers_count', 'language', 'has_issues', 'has_projects', 'has_downloads', 'has_wiki', 'has_pages', 'has_discussions', 'forks_count', 'mirror_url', 'archived', 'disabled', 'open_issues_count', 'license', 'allow_forking', 'is_template', 'web_commit_signoff_required', 'topics', 'visibility', 'forks', 'open_issues', 'watchers', 'default_branch', 'permissions', 'temp_clone_token', 'organization', 'network_count', 'subscribers_count'])"
      ]
     },
     "execution_count": 3,
     "metadata": {},
     "output_type": "execute_result"
    }
   ],
   "source": [
    "res_json = res_git.json()\n",
    "res_json.keys()"
   ]
  },
  {
   "cell_type": "code",
   "execution_count": 4,
   "id": "f5a25716",
   "metadata": {},
   "outputs": [
    {
     "data": {
      "text/plain": [
       "['commits_url', 'git_commits_url', 'web_commit_signoff_required']"
      ]
     },
     "execution_count": 4,
     "metadata": {},
     "output_type": "execute_result"
    }
   ],
   "source": [
    "# Busacamos solo las keys que nos den info del commit\n",
    "keys_commit = []\n",
    "for key in res_json.keys():\n",
    "    if 'commit' in key:\n",
    "        keys_commit.append(key)\n",
    "        \n",
    "keys_commit"
   ]
  },
  {
   "cell_type": "code",
   "execution_count": 5,
   "id": "e03b0fed",
   "metadata": {},
   "outputs": [
    {
     "data": {
      "text/plain": [
       "'https://api.github.com/repos/ironhack-datalabs/datamad1020-rev/commits{/sha}'"
      ]
     },
     "execution_count": 5,
     "metadata": {},
     "output_type": "execute_result"
    }
   ],
   "source": [
    "res_json['commits_url']"
   ]
  },
  {
   "cell_type": "code",
   "execution_count": 6,
   "id": "2565df38",
   "metadata": {},
   "outputs": [
    {
     "data": {
      "text/plain": [
       "<Response [200]>"
      ]
     },
     "execution_count": 6,
     "metadata": {},
     "output_type": "execute_result"
    }
   ],
   "source": [
    "# Obtengo una nueva conexión donde obtengo la info de los commits\n",
    "url = 'https://api.github.com/repos/ironhack-datalabs/datamad1020-rev/commits'\n",
    "res_commit=requests.get(url, headers=HEADER)\n",
    "res_commit"
   ]
  },
  {
   "cell_type": "code",
   "execution_count": 7,
   "id": "247e8f07",
   "metadata": {
    "scrolled": true
   },
   "outputs": [
    {
     "data": {
      "text/plain": [
       "30"
      ]
     },
     "execution_count": 7,
     "metadata": {},
     "output_type": "execute_result"
    }
   ],
   "source": [
    "# Nº de commits que tiene el repositorio\n",
    "len(res_commit.json())"
   ]
  },
  {
   "cell_type": "code",
   "execution_count": 8,
   "id": "b241e63a",
   "metadata": {},
   "outputs": [],
   "source": [
    "commits = res_commit.json()"
   ]
  },
  {
   "cell_type": "code",
   "execution_count": 9,
   "id": "efc9fe14",
   "metadata": {},
   "outputs": [
    {
     "data": {
      "text/plain": [
       "{'sha': '50581734c624a4d60851f59ed028d32b43f09997',\n",
       " 'node_id': 'C_kwDOEiJ229oAKDUwNTgxNzM0YzYyNGE0ZDYwODUxZjU5ZWQwMjhkMzJiNDNmMDk5OTc',\n",
       " 'commit': {'author': {'name': 'Fernando Costa',\n",
       "   'email': '54676992+breogann@users.noreply.github.com',\n",
       "   'date': '2022-07-21T16:02:45Z'},\n",
       "  'committer': {'name': 'GitHub',\n",
       "   'email': 'noreply@github.com',\n",
       "   'date': '2022-07-21T16:02:45Z'},\n",
       "  'message': 'ola',\n",
       "  'tree': {'sha': '20b07f12dcd6b74d8fcd3dc2647cf93cbb5544aa',\n",
       "   'url': 'https://api.github.com/repos/ironhack-datalabs/datamad1020-rev/git/trees/20b07f12dcd6b74d8fcd3dc2647cf93cbb5544aa'},\n",
       "  'url': 'https://api.github.com/repos/ironhack-datalabs/datamad1020-rev/git/commits/50581734c624a4d60851f59ed028d32b43f09997',\n",
       "  'comment_count': 0,\n",
       "  'verification': {'verified': True,\n",
       "   'reason': 'valid',\n",
       "   'signature': '-----BEGIN PGP SIGNATURE-----\\n\\nwsBcBAABCAAQBQJi2XilCRBK7hj4Ov3rIwAAvp8IAKDrvJ869zXa6ASC+MwJ1mbd\\n1Br7nv8T61SR90nrH+PrgUo1W570aQcT4fO/5yRmVThWF90APu5Y7ycfX4gfFIcO\\n1iK+fSisJ8uY7BDIkmaTb/T42GXTS9bkbZXz17Sv5OrbfRDUsiHLUX5app4utuIx\\n7p5sPTTqZ1p4f8gi9fgsuXtwnTCI8d/brH+Q1iqSI0QOxV9lpfC9Ffj6gBWuCTsI\\nske4ylfVjnoQdlx6k11AvQif1DhoyabVodXx/mezlW+5kS9YVFcKgihe+ymwyifS\\nwT8ppgwcdgii8wn1URcJiky37RNVNYeMLZqCiz/4qs1DfQwNG3vSto6eTmk74jo=\\n=t7N6\\n-----END PGP SIGNATURE-----\\n',\n",
       "   'payload': 'tree 20b07f12dcd6b74d8fcd3dc2647cf93cbb5544aa\\nparent f61a35d1016bfc11bb53e8d844db395fc6c4933d\\nauthor Fernando Costa <54676992+breogann@users.noreply.github.com> 1658419365 +0200\\ncommitter GitHub <noreply@github.com> 1658419365 +0200\\n\\nola'}},\n",
       " 'url': 'https://api.github.com/repos/ironhack-datalabs/datamad1020-rev/commits/50581734c624a4d60851f59ed028d32b43f09997',\n",
       " 'html_url': 'https://github.com/ironhack-datalabs/datamad1020-rev/commit/50581734c624a4d60851f59ed028d32b43f09997',\n",
       " 'comments_url': 'https://api.github.com/repos/ironhack-datalabs/datamad1020-rev/commits/50581734c624a4d60851f59ed028d32b43f09997/comments',\n",
       " 'author': {'login': 'breogann',\n",
       "  'id': 54676992,\n",
       "  'node_id': 'MDQ6VXNlcjU0Njc2OTky',\n",
       "  'avatar_url': 'https://avatars.githubusercontent.com/u/54676992?v=4',\n",
       "  'gravatar_id': '',\n",
       "  'url': 'https://api.github.com/users/breogann',\n",
       "  'html_url': 'https://github.com/breogann',\n",
       "  'followers_url': 'https://api.github.com/users/breogann/followers',\n",
       "  'following_url': 'https://api.github.com/users/breogann/following{/other_user}',\n",
       "  'gists_url': 'https://api.github.com/users/breogann/gists{/gist_id}',\n",
       "  'starred_url': 'https://api.github.com/users/breogann/starred{/owner}{/repo}',\n",
       "  'subscriptions_url': 'https://api.github.com/users/breogann/subscriptions',\n",
       "  'organizations_url': 'https://api.github.com/users/breogann/orgs',\n",
       "  'repos_url': 'https://api.github.com/users/breogann/repos',\n",
       "  'events_url': 'https://api.github.com/users/breogann/events{/privacy}',\n",
       "  'received_events_url': 'https://api.github.com/users/breogann/received_events',\n",
       "  'type': 'User',\n",
       "  'site_admin': False},\n",
       " 'committer': {'login': 'web-flow',\n",
       "  'id': 19864447,\n",
       "  'node_id': 'MDQ6VXNlcjE5ODY0NDQ3',\n",
       "  'avatar_url': 'https://avatars.githubusercontent.com/u/19864447?v=4',\n",
       "  'gravatar_id': '',\n",
       "  'url': 'https://api.github.com/users/web-flow',\n",
       "  'html_url': 'https://github.com/web-flow',\n",
       "  'followers_url': 'https://api.github.com/users/web-flow/followers',\n",
       "  'following_url': 'https://api.github.com/users/web-flow/following{/other_user}',\n",
       "  'gists_url': 'https://api.github.com/users/web-flow/gists{/gist_id}',\n",
       "  'starred_url': 'https://api.github.com/users/web-flow/starred{/owner}{/repo}',\n",
       "  'subscriptions_url': 'https://api.github.com/users/web-flow/subscriptions',\n",
       "  'organizations_url': 'https://api.github.com/users/web-flow/orgs',\n",
       "  'repos_url': 'https://api.github.com/users/web-flow/repos',\n",
       "  'events_url': 'https://api.github.com/users/web-flow/events{/privacy}',\n",
       "  'received_events_url': 'https://api.github.com/users/web-flow/received_events',\n",
       "  'type': 'User',\n",
       "  'site_admin': False},\n",
       " 'parents': [{'sha': 'f61a35d1016bfc11bb53e8d844db395fc6c4933d',\n",
       "   'url': 'https://api.github.com/repos/ironhack-datalabs/datamad1020-rev/commits/f61a35d1016bfc11bb53e8d844db395fc6c4933d',\n",
       "   'html_url': 'https://github.com/ironhack-datalabs/datamad1020-rev/commit/f61a35d1016bfc11bb53e8d844db395fc6c4933d'}]}"
      ]
     },
     "execution_count": 9,
     "metadata": {},
     "output_type": "execute_result"
    }
   ],
   "source": [
    "# commmits incluye toda la info de los commits\n",
    "commits[0]"
   ]
  }
 ],
 "metadata": {
  "kernelspec": {
   "display_name": "Python 3 (ipykernel)",
   "language": "python",
   "name": "python3"
  },
  "language_info": {
   "codemirror_mode": {
    "name": "ipython",
    "version": 3
   },
   "file_extension": ".py",
   "mimetype": "text/x-python",
   "name": "python",
   "nbconvert_exporter": "python",
   "pygments_lexer": "ipython3",
   "version": "3.9.15"
  },
  "toc": {
   "base_numbering": 1,
   "nav_menu": {},
   "number_sections": true,
   "sideBar": true,
   "skip_h1_title": true,
   "title_cell": "Table of Contents",
   "title_sidebar": "Contents",
   "toc_cell": false,
   "toc_position": {
    "height": "calc(100% - 180px)",
    "left": "10px",
    "top": "150px",
    "width": "288px"
   },
   "toc_section_display": true,
   "toc_window_display": true
  },
  "varInspector": {
   "cols": {
    "lenName": 16,
    "lenType": 16,
    "lenVar": 40
   },
   "kernels_config": {
    "python": {
     "delete_cmd_postfix": "",
     "delete_cmd_prefix": "del ",
     "library": "var_list.py",
     "varRefreshCmd": "print(var_dic_list())"
    },
    "r": {
     "delete_cmd_postfix": ") ",
     "delete_cmd_prefix": "rm(",
     "library": "var_list.r",
     "varRefreshCmd": "cat(var_dic_list()) "
    }
   },
   "types_to_exclude": [
    "module",
    "function",
    "builtin_function_or_method",
    "instance",
    "_Feature"
   ],
   "window_display": false
  }
 },
 "nbformat": 4,
 "nbformat_minor": 5
}
