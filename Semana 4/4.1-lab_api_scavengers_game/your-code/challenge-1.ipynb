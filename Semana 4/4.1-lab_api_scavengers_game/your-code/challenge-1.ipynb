{
 "cells": [
  {
   "cell_type": "code",
   "execution_count": 1,
   "metadata": {},
   "outputs": [],
   "source": [
    "import requests\n",
    "from password import TOKEN"
   ]
  },
  {
   "cell_type": "markdown",
   "metadata": {},
   "source": [
    "Only if you're using your environmental variable eith the `.env` file, import/install the following modules. Otherwise it is not necessary:\n",
    "\n",
    "https://pypi.org/project/python-dotenv/"
   ]
  },
  {
   "cell_type": "markdown",
   "metadata": {},
   "source": [
    "# Challenge 1: Fork Languages\n",
    "\n",
    "You will find out how many programming languages are used among all the forks created from the main lab repo of your bootcamp. Assuming the main lab repo is ironhack-datalabs/datamad1020-rev, you will:\n",
    "\n",
    "1. Obtain the full list of forks created from the main lab repo via Github API.\n",
    "\n",
    "2. Loop the JSON response to find out the language attribute of each fork. Use an array to store the language attributes of each fork.\n",
    "\n",
    "Hint: Each language should appear only once in your array.\n",
    "\n",
    "3. Print the language array. It should be something like:\n",
    "\n",
    "[\"Python\", \"Jupyter Notebook\", \"HTML\"]\n"
   ]
  },
  {
   "cell_type": "markdown",
   "metadata": {},
   "source": [
    "**HINT:**: Create a list with every **language_url** you find in every fork "
   ]
  },
  {
   "cell_type": "markdown",
   "metadata": {},
   "source": [
    "⚠️ **Remember to limit your output before submission**."
   ]
  },
  {
   "cell_type": "code",
   "execution_count": 2,
   "metadata": {},
   "outputs": [],
   "source": [
    "url = 'https://api.github.com/repos/ironhack-datalabs/datamad1020-rev'\n",
    "HEADER={'Authorization': 'token ' + TOKEN}"
   ]
  },
  {
   "cell_type": "code",
   "execution_count": 3,
   "metadata": {},
   "outputs": [],
   "source": [
    "res_git=requests.get(url, headers=HEADER)"
   ]
  },
  {
   "cell_type": "code",
   "execution_count": 4,
   "metadata": {},
   "outputs": [
    {
     "data": {
      "text/plain": [
       "<Response [200]>"
      ]
     },
     "execution_count": 4,
     "metadata": {},
     "output_type": "execute_result"
    }
   ],
   "source": [
    "res_git"
   ]
  },
  {
   "cell_type": "code",
   "execution_count": 5,
   "metadata": {
    "scrolled": false
   },
   "outputs": [
    {
     "data": {
      "text/plain": [
       "{'id': 304248539,\n",
       " 'node_id': 'MDEwOlJlcG9zaXRvcnkzMDQyNDg1Mzk=',\n",
       " 'name': 'datamad1020-rev',\n",
       " 'full_name': 'ironhack-datalabs/datamad1020-rev',\n",
       " 'private': False,\n",
       " 'owner': {'login': 'ironhack-datalabs',\n",
       "  'id': 44225188,\n",
       "  'node_id': 'MDEyOk9yZ2FuaXphdGlvbjQ0MjI1MTg4',\n",
       "  'avatar_url': 'https://avatars.githubusercontent.com/u/44225188?v=4',\n",
       "  'gravatar_id': '',\n",
       "  'url': 'https://api.github.com/users/ironhack-datalabs',\n",
       "  'html_url': 'https://github.com/ironhack-datalabs',\n",
       "  'followers_url': 'https://api.github.com/users/ironhack-datalabs/followers',\n",
       "  'following_url': 'https://api.github.com/users/ironhack-datalabs/following{/other_user}',\n",
       "  'gists_url': 'https://api.github.com/users/ironhack-datalabs/gists{/gist_id}',\n",
       "  'starred_url': 'https://api.github.com/users/ironhack-datalabs/starred{/owner}{/repo}',\n",
       "  'subscriptions_url': 'https://api.github.com/users/ironhack-datalabs/subscriptions',\n",
       "  'organizations_url': 'https://api.github.com/users/ironhack-datalabs/orgs',\n",
       "  'repos_url': 'https://api.github.com/users/ironhack-datalabs/repos',\n",
       "  'events_url': 'https://api.github.com/users/ironhack-datalabs/events{/privacy}',\n",
       "  'received_events_url': 'https://api.github.com/users/ironhack-datalabs/received_events',\n",
       "  'type': 'Organization',\n",
       "  'site_admin': False},\n",
       " 'html_url': 'https://github.com/ironhack-datalabs/datamad1020-rev',\n",
       " 'description': None,\n",
       " 'fork': False,\n",
       " 'url': 'https://api.github.com/repos/ironhack-datalabs/datamad1020-rev',\n",
       " 'forks_url': 'https://api.github.com/repos/ironhack-datalabs/datamad1020-rev/forks',\n",
       " 'keys_url': 'https://api.github.com/repos/ironhack-datalabs/datamad1020-rev/keys{/key_id}',\n",
       " 'collaborators_url': 'https://api.github.com/repos/ironhack-datalabs/datamad1020-rev/collaborators{/collaborator}',\n",
       " 'teams_url': 'https://api.github.com/repos/ironhack-datalabs/datamad1020-rev/teams',\n",
       " 'hooks_url': 'https://api.github.com/repos/ironhack-datalabs/datamad1020-rev/hooks',\n",
       " 'issue_events_url': 'https://api.github.com/repos/ironhack-datalabs/datamad1020-rev/issues/events{/number}',\n",
       " 'events_url': 'https://api.github.com/repos/ironhack-datalabs/datamad1020-rev/events',\n",
       " 'assignees_url': 'https://api.github.com/repos/ironhack-datalabs/datamad1020-rev/assignees{/user}',\n",
       " 'branches_url': 'https://api.github.com/repos/ironhack-datalabs/datamad1020-rev/branches{/branch}',\n",
       " 'tags_url': 'https://api.github.com/repos/ironhack-datalabs/datamad1020-rev/tags',\n",
       " 'blobs_url': 'https://api.github.com/repos/ironhack-datalabs/datamad1020-rev/git/blobs{/sha}',\n",
       " 'git_tags_url': 'https://api.github.com/repos/ironhack-datalabs/datamad1020-rev/git/tags{/sha}',\n",
       " 'git_refs_url': 'https://api.github.com/repos/ironhack-datalabs/datamad1020-rev/git/refs{/sha}',\n",
       " 'trees_url': 'https://api.github.com/repos/ironhack-datalabs/datamad1020-rev/git/trees{/sha}',\n",
       " 'statuses_url': 'https://api.github.com/repos/ironhack-datalabs/datamad1020-rev/statuses/{sha}',\n",
       " 'languages_url': 'https://api.github.com/repos/ironhack-datalabs/datamad1020-rev/languages',\n",
       " 'stargazers_url': 'https://api.github.com/repos/ironhack-datalabs/datamad1020-rev/stargazers',\n",
       " 'contributors_url': 'https://api.github.com/repos/ironhack-datalabs/datamad1020-rev/contributors',\n",
       " 'subscribers_url': 'https://api.github.com/repos/ironhack-datalabs/datamad1020-rev/subscribers',\n",
       " 'subscription_url': 'https://api.github.com/repos/ironhack-datalabs/datamad1020-rev/subscription',\n",
       " 'commits_url': 'https://api.github.com/repos/ironhack-datalabs/datamad1020-rev/commits{/sha}',\n",
       " 'git_commits_url': 'https://api.github.com/repos/ironhack-datalabs/datamad1020-rev/git/commits{/sha}',\n",
       " 'comments_url': 'https://api.github.com/repos/ironhack-datalabs/datamad1020-rev/comments{/number}',\n",
       " 'issue_comment_url': 'https://api.github.com/repos/ironhack-datalabs/datamad1020-rev/issues/comments{/number}',\n",
       " 'contents_url': 'https://api.github.com/repos/ironhack-datalabs/datamad1020-rev/contents/{+path}',\n",
       " 'compare_url': 'https://api.github.com/repos/ironhack-datalabs/datamad1020-rev/compare/{base}...{head}',\n",
       " 'merges_url': 'https://api.github.com/repos/ironhack-datalabs/datamad1020-rev/merges',\n",
       " 'archive_url': 'https://api.github.com/repos/ironhack-datalabs/datamad1020-rev/{archive_format}{/ref}',\n",
       " 'downloads_url': 'https://api.github.com/repos/ironhack-datalabs/datamad1020-rev/downloads',\n",
       " 'issues_url': 'https://api.github.com/repos/ironhack-datalabs/datamad1020-rev/issues{/number}',\n",
       " 'pulls_url': 'https://api.github.com/repos/ironhack-datalabs/datamad1020-rev/pulls{/number}',\n",
       " 'milestones_url': 'https://api.github.com/repos/ironhack-datalabs/datamad1020-rev/milestones{/number}',\n",
       " 'notifications_url': 'https://api.github.com/repos/ironhack-datalabs/datamad1020-rev/notifications{?since,all,participating}',\n",
       " 'labels_url': 'https://api.github.com/repos/ironhack-datalabs/datamad1020-rev/labels{/name}',\n",
       " 'releases_url': 'https://api.github.com/repos/ironhack-datalabs/datamad1020-rev/releases{/id}',\n",
       " 'deployments_url': 'https://api.github.com/repos/ironhack-datalabs/datamad1020-rev/deployments',\n",
       " 'created_at': '2020-10-15T07:44:09Z',\n",
       " 'updated_at': '2022-07-21T16:02:51Z',\n",
       " 'pushed_at': '2022-07-21T16:02:45Z',\n",
       " 'git_url': 'git://github.com/ironhack-datalabs/datamad1020-rev.git',\n",
       " 'ssh_url': 'git@github.com:ironhack-datalabs/datamad1020-rev.git',\n",
       " 'clone_url': 'https://github.com/ironhack-datalabs/datamad1020-rev.git',\n",
       " 'svn_url': 'https://github.com/ironhack-datalabs/datamad1020-rev',\n",
       " 'homepage': None,\n",
       " 'size': 164268,\n",
       " 'stargazers_count': 1,\n",
       " 'watchers_count': 1,\n",
       " 'language': 'Jupyter Notebook',\n",
       " 'has_issues': True,\n",
       " 'has_projects': True,\n",
       " 'has_downloads': True,\n",
       " 'has_wiki': True,\n",
       " 'has_pages': False,\n",
       " 'has_discussions': False,\n",
       " 'forks_count': 27,\n",
       " 'mirror_url': None,\n",
       " 'archived': False,\n",
       " 'disabled': False,\n",
       " 'open_issues_count': 0,\n",
       " 'license': {'key': 'agpl-3.0',\n",
       "  'name': 'GNU Affero General Public License v3.0',\n",
       "  'spdx_id': 'AGPL-3.0',\n",
       "  'url': 'https://api.github.com/licenses/agpl-3.0',\n",
       "  'node_id': 'MDc6TGljZW5zZTE='},\n",
       " 'allow_forking': True,\n",
       " 'is_template': False,\n",
       " 'web_commit_signoff_required': False,\n",
       " 'topics': [],\n",
       " 'visibility': 'public',\n",
       " 'forks': 27,\n",
       " 'open_issues': 0,\n",
       " 'watchers': 1,\n",
       " 'default_branch': 'master',\n",
       " 'permissions': {'admin': False,\n",
       "  'maintain': False,\n",
       "  'push': False,\n",
       "  'triage': False,\n",
       "  'pull': True},\n",
       " 'temp_clone_token': '',\n",
       " 'organization': {'login': 'ironhack-datalabs',\n",
       "  'id': 44225188,\n",
       "  'node_id': 'MDEyOk9yZ2FuaXphdGlvbjQ0MjI1MTg4',\n",
       "  'avatar_url': 'https://avatars.githubusercontent.com/u/44225188?v=4',\n",
       "  'gravatar_id': '',\n",
       "  'url': 'https://api.github.com/users/ironhack-datalabs',\n",
       "  'html_url': 'https://github.com/ironhack-datalabs',\n",
       "  'followers_url': 'https://api.github.com/users/ironhack-datalabs/followers',\n",
       "  'following_url': 'https://api.github.com/users/ironhack-datalabs/following{/other_user}',\n",
       "  'gists_url': 'https://api.github.com/users/ironhack-datalabs/gists{/gist_id}',\n",
       "  'starred_url': 'https://api.github.com/users/ironhack-datalabs/starred{/owner}{/repo}',\n",
       "  'subscriptions_url': 'https://api.github.com/users/ironhack-datalabs/subscriptions',\n",
       "  'organizations_url': 'https://api.github.com/users/ironhack-datalabs/orgs',\n",
       "  'repos_url': 'https://api.github.com/users/ironhack-datalabs/repos',\n",
       "  'events_url': 'https://api.github.com/users/ironhack-datalabs/events{/privacy}',\n",
       "  'received_events_url': 'https://api.github.com/users/ironhack-datalabs/received_events',\n",
       "  'type': 'Organization',\n",
       "  'site_admin': False},\n",
       " 'network_count': 27,\n",
       " 'subscribers_count': 3}"
      ]
     },
     "execution_count": 5,
     "metadata": {},
     "output_type": "execute_result"
    }
   ],
   "source": [
    "res_git.json()"
   ]
  },
  {
   "cell_type": "code",
   "execution_count": 6,
   "metadata": {},
   "outputs": [
    {
     "data": {
      "text/plain": [
       "dict_keys(['id', 'node_id', 'name', 'full_name', 'private', 'owner', 'html_url', 'description', 'fork', 'url', 'forks_url', 'keys_url', 'collaborators_url', 'teams_url', 'hooks_url', 'issue_events_url', 'events_url', 'assignees_url', 'branches_url', 'tags_url', 'blobs_url', 'git_tags_url', 'git_refs_url', 'trees_url', 'statuses_url', 'languages_url', 'stargazers_url', 'contributors_url', 'subscribers_url', 'subscription_url', 'commits_url', 'git_commits_url', 'comments_url', 'issue_comment_url', 'contents_url', 'compare_url', 'merges_url', 'archive_url', 'downloads_url', 'issues_url', 'pulls_url', 'milestones_url', 'notifications_url', 'labels_url', 'releases_url', 'deployments_url', 'created_at', 'updated_at', 'pushed_at', 'git_url', 'ssh_url', 'clone_url', 'svn_url', 'homepage', 'size', 'stargazers_count', 'watchers_count', 'language', 'has_issues', 'has_projects', 'has_downloads', 'has_wiki', 'has_pages', 'has_discussions', 'forks_count', 'mirror_url', 'archived', 'disabled', 'open_issues_count', 'license', 'allow_forking', 'is_template', 'web_commit_signoff_required', 'topics', 'visibility', 'forks', 'open_issues', 'watchers', 'default_branch', 'permissions', 'temp_clone_token', 'organization', 'network_count', 'subscribers_count'])"
      ]
     },
     "execution_count": 6,
     "metadata": {},
     "output_type": "execute_result"
    }
   ],
   "source": [
    "res_git.json().keys()"
   ]
  },
  {
   "cell_type": "code",
   "execution_count": 7,
   "metadata": {},
   "outputs": [
    {
     "data": {
      "text/plain": [
       "27"
      ]
     },
     "execution_count": 7,
     "metadata": {},
     "output_type": "execute_result"
    }
   ],
   "source": [
    "# Número de forks hechos al repositorio\n",
    "res_git.json()['forks']"
   ]
  },
  {
   "cell_type": "code",
   "execution_count": 8,
   "metadata": {},
   "outputs": [
    {
     "data": {
      "text/plain": [
       "'https://api.github.com/repos/ironhack-datalabs/datamad1020-rev/forks'"
      ]
     },
     "execution_count": 8,
     "metadata": {},
     "output_type": "execute_result"
    }
   ],
   "source": [
    "# URL donde está la info de los forks\n",
    "res_git.json()['forks_url']"
   ]
  },
  {
   "cell_type": "code",
   "execution_count": 9,
   "metadata": {},
   "outputs": [
    {
     "data": {
      "text/plain": [
       "<Response [200]>"
      ]
     },
     "execution_count": 9,
     "metadata": {},
     "output_type": "execute_result"
    }
   ],
   "source": [
    "# Nueva request para ver forks\n",
    "url = res_git.json()['forks_url']\n",
    "res_git=requests.get(url, headers=HEADER)\n",
    "res_git"
   ]
  },
  {
   "cell_type": "code",
   "execution_count": 10,
   "metadata": {},
   "outputs": [
    {
     "data": {
      "text/plain": [
       "27"
      ]
     },
     "execution_count": 10,
     "metadata": {},
     "output_type": "execute_result"
    }
   ],
   "source": [
    "# La longitud del json es igual al número de forks. Todo OK\n",
    "len(res_git.json())"
   ]
  },
  {
   "cell_type": "code",
   "execution_count": 14,
   "metadata": {
    "scrolled": false
   },
   "outputs": [
    {
     "data": {
      "text/plain": [
       "{'id': 634850241,\n",
       " 'node_id': 'R_kgDOJdcLwQ',\n",
       " 'name': 'datamad1020-rev',\n",
       " 'full_name': 'Anton-Utray/datamad1020-rev',\n",
       " 'private': False,\n",
       " 'owner': {'login': 'Anton-Utray',\n",
       "  'id': 127222778,\n",
       "  'node_id': 'U_kgDOB5VD-g',\n",
       "  'avatar_url': 'https://avatars.githubusercontent.com/u/127222778?v=4',\n",
       "  'gravatar_id': '',\n",
       "  'url': 'https://api.github.com/users/Anton-Utray',\n",
       "  'html_url': 'https://github.com/Anton-Utray',\n",
       "  'followers_url': 'https://api.github.com/users/Anton-Utray/followers',\n",
       "  'following_url': 'https://api.github.com/users/Anton-Utray/following{/other_user}',\n",
       "  'gists_url': 'https://api.github.com/users/Anton-Utray/gists{/gist_id}',\n",
       "  'starred_url': 'https://api.github.com/users/Anton-Utray/starred{/owner}{/repo}',\n",
       "  'subscriptions_url': 'https://api.github.com/users/Anton-Utray/subscriptions',\n",
       "  'organizations_url': 'https://api.github.com/users/Anton-Utray/orgs',\n",
       "  'repos_url': 'https://api.github.com/users/Anton-Utray/repos',\n",
       "  'events_url': 'https://api.github.com/users/Anton-Utray/events{/privacy}',\n",
       "  'received_events_url': 'https://api.github.com/users/Anton-Utray/received_events',\n",
       "  'type': 'User',\n",
       "  'site_admin': False},\n",
       " 'html_url': 'https://github.com/Anton-Utray/datamad1020-rev',\n",
       " 'description': None,\n",
       " 'fork': True,\n",
       " 'url': 'https://api.github.com/repos/Anton-Utray/datamad1020-rev',\n",
       " 'forks_url': 'https://api.github.com/repos/Anton-Utray/datamad1020-rev/forks',\n",
       " 'keys_url': 'https://api.github.com/repos/Anton-Utray/datamad1020-rev/keys{/key_id}',\n",
       " 'collaborators_url': 'https://api.github.com/repos/Anton-Utray/datamad1020-rev/collaborators{/collaborator}',\n",
       " 'teams_url': 'https://api.github.com/repos/Anton-Utray/datamad1020-rev/teams',\n",
       " 'hooks_url': 'https://api.github.com/repos/Anton-Utray/datamad1020-rev/hooks',\n",
       " 'issue_events_url': 'https://api.github.com/repos/Anton-Utray/datamad1020-rev/issues/events{/number}',\n",
       " 'events_url': 'https://api.github.com/repos/Anton-Utray/datamad1020-rev/events',\n",
       " 'assignees_url': 'https://api.github.com/repos/Anton-Utray/datamad1020-rev/assignees{/user}',\n",
       " 'branches_url': 'https://api.github.com/repos/Anton-Utray/datamad1020-rev/branches{/branch}',\n",
       " 'tags_url': 'https://api.github.com/repos/Anton-Utray/datamad1020-rev/tags',\n",
       " 'blobs_url': 'https://api.github.com/repos/Anton-Utray/datamad1020-rev/git/blobs{/sha}',\n",
       " 'git_tags_url': 'https://api.github.com/repos/Anton-Utray/datamad1020-rev/git/tags{/sha}',\n",
       " 'git_refs_url': 'https://api.github.com/repos/Anton-Utray/datamad1020-rev/git/refs{/sha}',\n",
       " 'trees_url': 'https://api.github.com/repos/Anton-Utray/datamad1020-rev/git/trees{/sha}',\n",
       " 'statuses_url': 'https://api.github.com/repos/Anton-Utray/datamad1020-rev/statuses/{sha}',\n",
       " 'languages_url': 'https://api.github.com/repos/Anton-Utray/datamad1020-rev/languages',\n",
       " 'stargazers_url': 'https://api.github.com/repos/Anton-Utray/datamad1020-rev/stargazers',\n",
       " 'contributors_url': 'https://api.github.com/repos/Anton-Utray/datamad1020-rev/contributors',\n",
       " 'subscribers_url': 'https://api.github.com/repos/Anton-Utray/datamad1020-rev/subscribers',\n",
       " 'subscription_url': 'https://api.github.com/repos/Anton-Utray/datamad1020-rev/subscription',\n",
       " 'commits_url': 'https://api.github.com/repos/Anton-Utray/datamad1020-rev/commits{/sha}',\n",
       " 'git_commits_url': 'https://api.github.com/repos/Anton-Utray/datamad1020-rev/git/commits{/sha}',\n",
       " 'comments_url': 'https://api.github.com/repos/Anton-Utray/datamad1020-rev/comments{/number}',\n",
       " 'issue_comment_url': 'https://api.github.com/repos/Anton-Utray/datamad1020-rev/issues/comments{/number}',\n",
       " 'contents_url': 'https://api.github.com/repos/Anton-Utray/datamad1020-rev/contents/{+path}',\n",
       " 'compare_url': 'https://api.github.com/repos/Anton-Utray/datamad1020-rev/compare/{base}...{head}',\n",
       " 'merges_url': 'https://api.github.com/repos/Anton-Utray/datamad1020-rev/merges',\n",
       " 'archive_url': 'https://api.github.com/repos/Anton-Utray/datamad1020-rev/{archive_format}{/ref}',\n",
       " 'downloads_url': 'https://api.github.com/repos/Anton-Utray/datamad1020-rev/downloads',\n",
       " 'issues_url': 'https://api.github.com/repos/Anton-Utray/datamad1020-rev/issues{/number}',\n",
       " 'pulls_url': 'https://api.github.com/repos/Anton-Utray/datamad1020-rev/pulls{/number}',\n",
       " 'milestones_url': 'https://api.github.com/repos/Anton-Utray/datamad1020-rev/milestones{/number}',\n",
       " 'notifications_url': 'https://api.github.com/repos/Anton-Utray/datamad1020-rev/notifications{?since,all,participating}',\n",
       " 'labels_url': 'https://api.github.com/repos/Anton-Utray/datamad1020-rev/labels{/name}',\n",
       " 'releases_url': 'https://api.github.com/repos/Anton-Utray/datamad1020-rev/releases{/id}',\n",
       " 'deployments_url': 'https://api.github.com/repos/Anton-Utray/datamad1020-rev/deployments',\n",
       " 'created_at': '2023-05-01T11:17:53Z',\n",
       " 'updated_at': '2023-05-01T11:17:53Z',\n",
       " 'pushed_at': '2022-07-21T16:02:45Z',\n",
       " 'git_url': 'git://github.com/Anton-Utray/datamad1020-rev.git',\n",
       " 'ssh_url': 'git@github.com:Anton-Utray/datamad1020-rev.git',\n",
       " 'clone_url': 'https://github.com/Anton-Utray/datamad1020-rev.git',\n",
       " 'svn_url': 'https://github.com/Anton-Utray/datamad1020-rev',\n",
       " 'homepage': None,\n",
       " 'size': 164268,\n",
       " 'stargazers_count': 0,\n",
       " 'watchers_count': 0,\n",
       " 'language': None,\n",
       " 'has_issues': False,\n",
       " 'has_projects': True,\n",
       " 'has_downloads': True,\n",
       " 'has_wiki': True,\n",
       " 'has_pages': False,\n",
       " 'has_discussions': False,\n",
       " 'forks_count': 0,\n",
       " 'mirror_url': None,\n",
       " 'archived': False,\n",
       " 'disabled': False,\n",
       " 'open_issues_count': 0,\n",
       " 'license': {'key': 'agpl-3.0',\n",
       "  'name': 'GNU Affero General Public License v3.0',\n",
       "  'spdx_id': 'AGPL-3.0',\n",
       "  'url': 'https://api.github.com/licenses/agpl-3.0',\n",
       "  'node_id': 'MDc6TGljZW5zZTE='},\n",
       " 'allow_forking': True,\n",
       " 'is_template': False,\n",
       " 'web_commit_signoff_required': False,\n",
       " 'topics': [],\n",
       " 'visibility': 'public',\n",
       " 'forks': 0,\n",
       " 'open_issues': 0,\n",
       " 'watchers': 0,\n",
       " 'default_branch': 'master',\n",
       " 'permissions': {'admin': False,\n",
       "  'maintain': False,\n",
       "  'push': False,\n",
       "  'triage': False,\n",
       "  'pull': True}}"
      ]
     },
     "execution_count": 14,
     "metadata": {},
     "output_type": "execute_result"
    }
   ],
   "source": [
    "# Examinamos estructura del json\n",
    "res_git.json()[0] "
   ]
  },
  {
   "cell_type": "code",
   "execution_count": 12,
   "metadata": {
    "scrolled": false
   },
   "outputs": [
    {
     "data": {
      "text/plain": [
       "[{'id': 634850241,\n",
       "  'name': 'Anton-Utray/datamad1020-rev',\n",
       "  'owner': 'Anton-Utray'},\n",
       " {'id': 554816267, 'name': 'queraltic/datamad1020-rev', 'owner': 'queraltic'},\n",
       " {'id': 424649171,\n",
       "  'name': 'LuisSerranoCerame/datamad1020-rev',\n",
       "  'owner': 'LuisSerranoCerame'},\n",
       " {'id': 424645536,\n",
       "  'name': 'silviarico/datamad1020-rev',\n",
       "  'owner': 'silviarico'},\n",
       " {'id': 364261883,\n",
       "  'name': 'BlancaRibas/datamad1020-rev',\n",
       "  'owner': 'BlancaRibas'}]"
      ]
     },
     "execution_count": 12,
     "metadata": {},
     "output_type": "execute_result"
    }
   ],
   "source": [
    "# Recorremos el json para obtener solo la info que consideremos necesaria\n",
    "\n",
    "fork_list = []\n",
    "\n",
    "for repo in res_git.json():\n",
    "    fork = dict()\n",
    "    fork['id'] = repo['id']\n",
    "    fork['name'] = repo['full_name']\n",
    "    fork['owner'] = repo['owner']['login']\n",
    "    fork_list.append(fork)\n",
    "\n",
    "fork_list[:5] # Solo mostramos las primeras 5 entradas"
   ]
  },
  {
   "cell_type": "code",
   "execution_count": null,
   "metadata": {},
   "outputs": [],
   "source": []
  }
 ],
 "metadata": {
  "kernelspec": {
   "display_name": "Python 3 (ipykernel)",
   "language": "python",
   "name": "python3"
  },
  "language_info": {
   "codemirror_mode": {
    "name": "ipython",
    "version": 3
   },
   "file_extension": ".py",
   "mimetype": "text/x-python",
   "name": "python",
   "nbconvert_exporter": "python",
   "pygments_lexer": "ipython3",
   "version": "3.9.15"
  },
  "toc": {
   "base_numbering": 1,
   "nav_menu": {},
   "number_sections": true,
   "sideBar": true,
   "skip_h1_title": true,
   "title_cell": "Table of Contents",
   "title_sidebar": "Contents",
   "toc_cell": false,
   "toc_position": {},
   "toc_section_display": true,
   "toc_window_display": false
  },
  "varInspector": {
   "cols": {
    "lenName": 16,
    "lenType": 16,
    "lenVar": 40
   },
   "kernels_config": {
    "python": {
     "delete_cmd_postfix": "",
     "delete_cmd_prefix": "del ",
     "library": "var_list.py",
     "varRefreshCmd": "print(var_dic_list())"
    },
    "r": {
     "delete_cmd_postfix": ") ",
     "delete_cmd_prefix": "rm(",
     "library": "var_list.r",
     "varRefreshCmd": "cat(var_dic_list()) "
    }
   },
   "types_to_exclude": [
    "module",
    "function",
    "builtin_function_or_method",
    "instance",
    "_Feature"
   ],
   "window_display": false
  }
 },
 "nbformat": 4,
 "nbformat_minor": 2
}
